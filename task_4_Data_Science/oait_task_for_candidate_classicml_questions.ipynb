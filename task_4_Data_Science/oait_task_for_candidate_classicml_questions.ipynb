{
 "cells": [
  {
   "cell_type": "markdown",
   "metadata": {
    "id": "DIi-7FBVCCmZ"
   },
   "source": [
    "# Классичесское машинное обучение"
   ]
  },
  {
   "cell_type": "markdown",
   "metadata": {
    "id": "k02Go1EICMMf"
   },
   "source": [
    "## Место для импорта библиотек"
   ]
  },
  {
   "cell_type": "code",
   "execution_count": 1,
   "metadata": {
    "id": "WxHe3BbICLJV"
   },
   "outputs": [],
   "source": [
    "import pandas as pd\n",
    "from sklearn.model_selection import train_test_split\n",
    "import matplotlib.pyplot as plt\n",
    "import numpy as np\n",
    "import seaborn as sns\n",
    "from sklearn.preprocessing import LabelEncoder\n",
    "from sklearn.preprocessing import StandardScaler\n",
    "from sklearn.linear_model import LinearRegression\n",
    "from sklearn.metrics import mean_absolute_error, mean_squared_error\n",
    "from sklearn.metrics import classification_report\n",
    "\n",
    "from sklearn.ensemble import RandomForestClassifier\n",
    "from sklearn.svm import LinearSVC\n",
    "from sklearn.linear_model import LogisticRegression\n",
    "from sklearn.ensemble import StackingClassifier\n",
    "from xgboost import XGBClassifier\n",
    "from sklearn.model_selection import GridSearchCV"
   ]
  },
  {
   "cell_type": "markdown",
   "metadata": {
    "id": "F7SPcKDYCny2"
   },
   "source": [
    "## Загрузка и предобработка данных\n",
    "\n",
    "Общая информация: \n",
    "\n",
    "Вам дана таблица bank_clients_data.csv содержащая данные о клиентах банка.<br>Необходимо решить задачу классификации, покинул клиент банк или нет. <br>\n",
    "Поля таблицы:\n",
    "\n",
    "* RowNumber — соответствует номеру записи (строки)\n",
    "* СustomerId — id клиента;\n",
    "* Surname — фамилия клиента;\n",
    "* CreditScore — крдитный рейтиинг клиента, полученный в результате каких-то расчетов внутри банка;\n",
    "* Geography — местоположение клиента;\n",
    "* Gender — пол;\n",
    "* Age — возраст;\n",
    "* Tenure — количество лет, в течение которых человек является клиентом банка;\n",
    "* Balance — остаток на счете;\n",
    "* NumOfProducts — количество продуктов, которые клиент приобрел через банк;\n",
    "* HasCrCard — есть ли у клиента кредитная карта. 1-да, 0-нет;\n",
    "* IsActiveMember — активный-1 или нет-2 клиент;\n",
    "* EstimatedSalary — заработная плата;\n",
    "* Exited — перестал ли клиент пользоваться услугами банка и в принципе быть его лкиентом. Целевая переменная. Характеризует отток.\n"
   ]
  },
  {
   "cell_type": "markdown",
   "metadata": {
    "id": "Nn8qwo6VLxqH"
   },
   "source": [
    "## 1. EDA. Составьте Общее представление о данных"
   ]
  },
  {
   "cell_type": "markdown",
   "metadata": {
    "id": "CXfyK0uxzjt_"
   },
   "source": [
    "#### 1. Прочитайте таблицу и выведите информацию о каждом столбце (среднее значение, среднее отклонение, основные процентили итп)"
   ]
  },
  {
   "cell_type": "code",
   "execution_count": 2,
   "metadata": {
    "id": "lxLlE4_u73n9"
   },
   "outputs": [
    {
     "data": {
      "text/html": [
       "<div>\n",
       "<style scoped>\n",
       "    .dataframe tbody tr th:only-of-type {\n",
       "        vertical-align: middle;\n",
       "    }\n",
       "\n",
       "    .dataframe tbody tr th {\n",
       "        vertical-align: top;\n",
       "    }\n",
       "\n",
       "    .dataframe thead th {\n",
       "        text-align: right;\n",
       "    }\n",
       "</style>\n",
       "<table border=\"1\" class=\"dataframe\">\n",
       "  <thead>\n",
       "    <tr style=\"text-align: right;\">\n",
       "      <th></th>\n",
       "      <th>CustomerId</th>\n",
       "      <th>CreditScore</th>\n",
       "      <th>Age</th>\n",
       "      <th>Tenure</th>\n",
       "      <th>Balance</th>\n",
       "      <th>NumOfProducts</th>\n",
       "      <th>HasCrCard</th>\n",
       "      <th>IsActiveMember</th>\n",
       "      <th>EstimatedSalary</th>\n",
       "      <th>Exited</th>\n",
       "    </tr>\n",
       "  </thead>\n",
       "  <tbody>\n",
       "    <tr>\n",
       "      <th>count</th>\n",
       "      <td>1.000000e+04</td>\n",
       "      <td>10000.000000</td>\n",
       "      <td>10000.000000</td>\n",
       "      <td>10000.000000</td>\n",
       "      <td>10000.000000</td>\n",
       "      <td>10000.000000</td>\n",
       "      <td>10000.00000</td>\n",
       "      <td>10000.000000</td>\n",
       "      <td>10000.000000</td>\n",
       "      <td>10000.000000</td>\n",
       "    </tr>\n",
       "    <tr>\n",
       "      <th>mean</th>\n",
       "      <td>1.569094e+07</td>\n",
       "      <td>650.528800</td>\n",
       "      <td>38.921800</td>\n",
       "      <td>5.012800</td>\n",
       "      <td>76485.889288</td>\n",
       "      <td>1.530200</td>\n",
       "      <td>0.70550</td>\n",
       "      <td>0.515100</td>\n",
       "      <td>100090.239881</td>\n",
       "      <td>0.203700</td>\n",
       "    </tr>\n",
       "    <tr>\n",
       "      <th>std</th>\n",
       "      <td>7.193619e+04</td>\n",
       "      <td>96.653299</td>\n",
       "      <td>10.487806</td>\n",
       "      <td>2.892174</td>\n",
       "      <td>62397.405202</td>\n",
       "      <td>0.581654</td>\n",
       "      <td>0.45584</td>\n",
       "      <td>0.499797</td>\n",
       "      <td>57510.492818</td>\n",
       "      <td>0.402769</td>\n",
       "    </tr>\n",
       "    <tr>\n",
       "      <th>min</th>\n",
       "      <td>1.556570e+07</td>\n",
       "      <td>350.000000</td>\n",
       "      <td>18.000000</td>\n",
       "      <td>0.000000</td>\n",
       "      <td>0.000000</td>\n",
       "      <td>1.000000</td>\n",
       "      <td>0.00000</td>\n",
       "      <td>0.000000</td>\n",
       "      <td>11.580000</td>\n",
       "      <td>0.000000</td>\n",
       "    </tr>\n",
       "    <tr>\n",
       "      <th>25%</th>\n",
       "      <td>1.562853e+07</td>\n",
       "      <td>584.000000</td>\n",
       "      <td>32.000000</td>\n",
       "      <td>3.000000</td>\n",
       "      <td>0.000000</td>\n",
       "      <td>1.000000</td>\n",
       "      <td>0.00000</td>\n",
       "      <td>0.000000</td>\n",
       "      <td>51002.110000</td>\n",
       "      <td>0.000000</td>\n",
       "    </tr>\n",
       "    <tr>\n",
       "      <th>50%</th>\n",
       "      <td>1.569074e+07</td>\n",
       "      <td>652.000000</td>\n",
       "      <td>37.000000</td>\n",
       "      <td>5.000000</td>\n",
       "      <td>97198.540000</td>\n",
       "      <td>1.000000</td>\n",
       "      <td>1.00000</td>\n",
       "      <td>1.000000</td>\n",
       "      <td>100193.915000</td>\n",
       "      <td>0.000000</td>\n",
       "    </tr>\n",
       "    <tr>\n",
       "      <th>75%</th>\n",
       "      <td>1.575323e+07</td>\n",
       "      <td>718.000000</td>\n",
       "      <td>44.000000</td>\n",
       "      <td>7.000000</td>\n",
       "      <td>127644.240000</td>\n",
       "      <td>2.000000</td>\n",
       "      <td>1.00000</td>\n",
       "      <td>1.000000</td>\n",
       "      <td>149388.247500</td>\n",
       "      <td>0.000000</td>\n",
       "    </tr>\n",
       "    <tr>\n",
       "      <th>max</th>\n",
       "      <td>1.581569e+07</td>\n",
       "      <td>850.000000</td>\n",
       "      <td>92.000000</td>\n",
       "      <td>10.000000</td>\n",
       "      <td>250898.090000</td>\n",
       "      <td>4.000000</td>\n",
       "      <td>1.00000</td>\n",
       "      <td>1.000000</td>\n",
       "      <td>199992.480000</td>\n",
       "      <td>1.000000</td>\n",
       "    </tr>\n",
       "  </tbody>\n",
       "</table>\n",
       "</div>"
      ],
      "text/plain": [
       "         CustomerId   CreditScore           Age        Tenure        Balance  \\\n",
       "count  1.000000e+04  10000.000000  10000.000000  10000.000000   10000.000000   \n",
       "mean   1.569094e+07    650.528800     38.921800      5.012800   76485.889288   \n",
       "std    7.193619e+04     96.653299     10.487806      2.892174   62397.405202   \n",
       "min    1.556570e+07    350.000000     18.000000      0.000000       0.000000   \n",
       "25%    1.562853e+07    584.000000     32.000000      3.000000       0.000000   \n",
       "50%    1.569074e+07    652.000000     37.000000      5.000000   97198.540000   \n",
       "75%    1.575323e+07    718.000000     44.000000      7.000000  127644.240000   \n",
       "max    1.581569e+07    850.000000     92.000000     10.000000  250898.090000   \n",
       "\n",
       "       NumOfProducts    HasCrCard  IsActiveMember  EstimatedSalary  \\\n",
       "count   10000.000000  10000.00000    10000.000000     10000.000000   \n",
       "mean        1.530200      0.70550        0.515100    100090.239881   \n",
       "std         0.581654      0.45584        0.499797     57510.492818   \n",
       "min         1.000000      0.00000        0.000000        11.580000   \n",
       "25%         1.000000      0.00000        0.000000     51002.110000   \n",
       "50%         1.000000      1.00000        1.000000    100193.915000   \n",
       "75%         2.000000      1.00000        1.000000    149388.247500   \n",
       "max         4.000000      1.00000        1.000000    199992.480000   \n",
       "\n",
       "             Exited  \n",
       "count  10000.000000  \n",
       "mean       0.203700  \n",
       "std        0.402769  \n",
       "min        0.000000  \n",
       "25%        0.000000  \n",
       "50%        0.000000  \n",
       "75%        0.000000  \n",
       "max        1.000000  "
      ]
     },
     "execution_count": 2,
     "metadata": {},
     "output_type": "execute_result"
    }
   ],
   "source": [
    "data = pd.read_csv('bank_clients_data.csv', index_col ='RowNumber')\n",
    "data.describe()"
   ]
  },
  {
   "cell_type": "markdown",
   "metadata": {
    "id": "7KyGVbfPz4l7"
   },
   "source": [
    "#### 2. Чему равен 80% процентиль по полю зарплаты, результат округлите до 1 знака после запятой, о чём говорит данное значение?"
   ]
  },
  {
   "cell_type": "code",
   "execution_count": 3,
   "metadata": {
    "id": "LZDzSZ9KMHu1"
   },
   "outputs": [
    {
     "data": {
      "text/plain": [
       "159836.7"
      ]
     },
     "execution_count": 3,
     "metadata": {},
     "output_type": "execute_result"
    }
   ],
   "source": [
    "round(data[\"EstimatedSalary\"].quantile(0.8, interpolation='linear'), 1)"
   ]
  },
  {
   "cell_type": "markdown",
   "metadata": {},
   "source": [
    "Это означает, что 80% зарплат меньше или равны 159836.7, а 20% зарплат больше этого значения."
   ]
  },
  {
   "cell_type": "markdown",
   "metadata": {
    "id": "RX_vYh5J0CE2"
   },
   "source": [
    "#### 3. Есть ли в данных пропущенные значения?"
   ]
  },
  {
   "cell_type": "code",
   "execution_count": 4,
   "metadata": {
    "id": "OWXxjg5N7-rO"
   },
   "outputs": [
    {
     "name": "stdout",
     "output_type": "stream",
     "text": [
      "<class 'pandas.core.frame.DataFrame'>\n",
      "Index: 10000 entries, 1 to 10000\n",
      "Data columns (total 13 columns):\n",
      " #   Column           Non-Null Count  Dtype  \n",
      "---  ------           --------------  -----  \n",
      " 0   CustomerId       10000 non-null  int64  \n",
      " 1   Surname          10000 non-null  object \n",
      " 2   CreditScore      10000 non-null  int64  \n",
      " 3   Geography        10000 non-null  object \n",
      " 4   Gender           10000 non-null  object \n",
      " 5   Age              10000 non-null  int64  \n",
      " 6   Tenure           10000 non-null  int64  \n",
      " 7   Balance          10000 non-null  float64\n",
      " 8   NumOfProducts    10000 non-null  int64  \n",
      " 9   HasCrCard        10000 non-null  int64  \n",
      " 10  IsActiveMember   10000 non-null  int64  \n",
      " 11  EstimatedSalary  10000 non-null  float64\n",
      " 12  Exited           10000 non-null  int64  \n",
      "dtypes: float64(2), int64(8), object(3)\n",
      "memory usage: 1.1+ MB\n"
     ]
    }
   ],
   "source": [
    "data.info()"
   ]
  },
  {
   "cell_type": "code",
   "execution_count": 5,
   "metadata": {},
   "outputs": [
    {
     "data": {
      "text/plain": [
       "0"
      ]
     },
     "execution_count": 5,
     "metadata": {},
     "output_type": "execute_result"
    }
   ],
   "source": [
    "data.isnull().sum().sum()"
   ]
  },
  {
   "cell_type": "markdown",
   "metadata": {},
   "source": [
    "Пропущенных значений нет"
   ]
  },
  {
   "cell_type": "markdown",
   "metadata": {
    "id": "hiqrRVOLNTJ9"
   },
   "source": [
    "#### 4. Проверьте сбалансированность классов и сделайте вывод \n"
   ]
  },
  {
   "cell_type": "code",
   "execution_count": 6,
   "metadata": {
    "id": "BrEOnItv7_5q"
   },
   "outputs": [
    {
     "data": {
      "text/plain": [
       "Exited\n",
       "0    7963\n",
       "1    2037\n",
       "Name: count, dtype: int64"
      ]
     },
     "execution_count": 6,
     "metadata": {},
     "output_type": "execute_result"
    }
   ],
   "source": [
    "data['Exited'].value_counts()"
   ]
  },
  {
   "cell_type": "markdown",
   "metadata": {},
   "source": [
    "Из предоставленных данных видно, что классы несбалансированы.\r\n",
    "\r\n",
    "Количество примеров для класса 0 (не ушли) составляет 7963, в то время как количество примеров для класса 1 (ушли) составляет всего лишь 2037.\r\n",
    "\r\n",
    "Такое неравенство в количестве примеров может привести к проблемам при обучении модели, особенно если алгоритм классификации чувствителен к несбалансированным данным. В таких случаях могут быть применены различные методы балансировки классов, такие как взвешивание классов, аугментация данных меньшего класса или использование алгоритмов, способных работать с несбалансированными данными (например, алгоритмы случайного леса или градиентного бустинга с автоматической обработкой несбалансированных классов)."
   ]
  },
  {
   "cell_type": "markdown",
   "metadata": {
    "id": "yG8vLh18QEyK"
   },
   "source": [
    "## 2. Построение графиков "
   ]
  },
  {
   "cell_type": "markdown",
   "metadata": {
    "id": "TFzVXh5jrb3-"
   },
   "source": [
    "#### 1. Постройте гистограмму распределения возраста клиентов, сделайте ее зеленого цвета, не забудьте про наименования осей и самого графика"
   ]
  },
  {
   "cell_type": "code",
   "execution_count": 7,
   "metadata": {
    "id": "Xq3dnHNk8CYS"
   },
   "outputs": [
    {
     "data": {
      "image/png": "[encoded data removed]",
      "text/plain": [
       "<Figure size 800x600 with 1 Axes>"
      ]
     },
     "metadata": {},
     "output_type": "display_data"
    }
   ],
   "source": [
    "plt.figure(figsize=(8, 6))\n",
    "plt.hist(data.Age, color='green', bins=30)\n",
    "plt.title('Распределение возраста клиентов')\n",
    "plt.xlabel('Возраст')\n",
    "plt.ylabel('Частота')\n",
    "plt.grid(True)\n",
    "\n",
    "plt.show()"
   ]
  },
  {
   "cell_type": "markdown",
   "metadata": {
    "id": "ZDPyjGmBrNUr"
   },
   "source": [
    "#### 2. Постройте график распределения количества ушедших клиентов исходя из их пола. Наверху каждого столбца отобразите количественный показатель. Какой можно сделать вывод?"
   ]
  },
  {
   "cell_type": "code",
   "execution_count": 8,
   "metadata": {
    "id": "CtFDF_3g8GU0"
   },
   "outputs": [
    {
     "data": {
      "image/png": "[encoded data removed]",
      "text/plain": [
       "<Figure size 800x600 with 1 Axes>"
      ]
     },
     "metadata": {},
     "output_type": "display_data"
    }
   ],
   "source": [
    "plt.figure(figsize=(8, 6))\n",
    "plt.bar(data.Gender.unique(), [data[data.Exited == 1].Gender.value_counts()['Male'], data[data.Exited == 1].Gender.value_counts()['Female']], color=['blue', 'red'])\n",
    "\n",
    "for i in range(len(data.Gender.unique())):\n",
    "    plt.text(i, [data[data.Exited == 1].Gender.value_counts()['Male'], data[data.Exited == 1].Gender.value_counts()['Female']][i] + 5, str([data[data.Exited == 1].Gender.value_counts()['Male'], data[data.Exited == 1].Gender.value_counts()['Female']][i]), ha='center', fontsize=12)\n",
    "\n",
    "plt.title('Распределение количества ушедших клиентов по полу')\n",
    "plt.xlabel('Пол')\n",
    "plt.ylabel('Количество ушедших клиентов')\n",
    "\n",
    "plt.show()"
   ]
  },
  {
   "cell_type": "markdown",
   "metadata": {
    "id": "d6Q1P_jQtRKf"
   },
   "source": [
    "#### 3. Возьмите данные о географии клиентов и их доходах. Постройте круговую диаграмму, отображающую картину среднего заработка по странам (должны быть видны страны и конкретные числовые значения)"
   ]
  },
  {
   "cell_type": "code",
   "execution_count": 9,
   "metadata": {},
   "outputs": [
    {
     "data": {
      "image/png": "[encoded data removed]",
      "text/plain": [
       "<Figure size 1000x700 with 1 Axes>"
      ]
     },
     "metadata": {},
     "output_type": "display_data"
    }
   ],
   "source": [
    "country = data.groupby('Geography')['EstimatedSalary'].mean().index\n",
    "salary = data.groupby('Geography')['EstimatedSalary'].mean().values\n",
    "\n",
    "explode = (0.1, 0.0, 0.2)\n",
    "\n",
    "def func(pct, allvalues):\n",
    "\tabsolute = int(pct / 100.*np.sum(allvalues))\n",
    "\treturn \"{:.1f}%\\n({:d} rub)\".format(pct, absolute)\n",
    "\n",
    "\n",
    "# Creating plot\n",
    "fig, ax = plt.subplots(figsize=(10, 7))\n",
    "wedges, texts, autotexts = ax.pie(salary,\n",
    "\t\t\t\t\t\t\t\tautopct=lambda pct: func(pct, salary),\n",
    "\t\t\t\t\t\t\t\texplode=explode,\n",
    "\t\t\t\t\t\t\t\tlabels=country,\n",
    "\t\t\t\t\t\t\t\tshadow=True,\n",
    "\t\t\t\t\t\t\t\tstartangle=90)\n",
    "\n",
    "ax.legend(wedges, country,\n",
    "\t\ttitle=\"Country\",\n",
    "\t\tloc=\"center left\",\n",
    "\t\tbbox_to_anchor=(1, 0, 0.5, 1))\n",
    "\n",
    "plt.setp(autotexts, size=8, weight=\"bold\")\n",
    "ax.set_title(\"Средний заработк по странам\")\n",
    "\n",
    "plt.show()"
   ]
  },
  {
   "cell_type": "markdown",
   "metadata": {
    "id": "Xg5dhOpixXw-"
   },
   "source": [
    "#### 4. Постройте тепловую карту корреляции всех признаков из таблицы. Согласно полученной карте, какие признаки показывают наибольшую взаимосвязь? "
   ]
  },
  {
   "cell_type": "code",
   "execution_count": 10,
   "metadata": {},
   "outputs": [],
   "source": [
    "label_encoder = LabelEncoder()\n",
    "data['Geography'] = label_encoder.fit_transform(data['Geography'])\n",
    "data['Gender'] = label_encoder.fit_transform(data['Gender'])\n",
    "data['Surname'] = label_encoder.fit_transform(data['Surname'])"
   ]
  },
  {
   "cell_type": "code",
   "execution_count": 11,
   "metadata": {
    "id": "68g3UbXr0HUJ"
   },
   "outputs": [
    {
     "data": {
      "image/png": "[encoded data removed]",
      "text/plain": [
       "<Figure size 1000x800 with 2 Axes>"
      ]
     },
     "metadata": {},
     "output_type": "display_data"
    }
   ],
   "source": [
    "plt.figure(figsize=(10, 8))\n",
    "sns.heatmap(data.corr(), annot=True, fmt=\".2f\")\n",
    "plt.title('Тепловая карта корреляции признаков')\n",
    "plt.show()"
   ]
  },
  {
   "cell_type": "markdown",
   "metadata": {
    "id": "APQys213y84B"
   },
   "source": [
    "## 3. Подготовка данных к использованию в алгоритмах ml"
   ]
  },
  {
   "cell_type": "markdown",
   "metadata": {
    "id": "NOzpxZo40ZTG"
   },
   "source": [
    "####  1. Избавьтесь от полей, которые по вашему мнению являются неинформативными, поясните выбор"
   ]
  },
  {
   "cell_type": "code",
   "execution_count": 12,
   "metadata": {
    "id": "epAO62ci1JMr"
   },
   "outputs": [],
   "source": [
    "data = data.drop(columns=['CustomerId', 'Surname'])"
   ]
  },
  {
   "cell_type": "markdown",
   "metadata": {
    "id": "CTziexqH15Sa"
   },
   "source": [
    "#### 2. Переведите категориальные данные в числовые. "
   ]
  },
  {
   "cell_type": "markdown",
   "metadata": {},
   "source": [
    "Было сделано выше.\n"
   ]
  },
  {
   "cell_type": "code",
   "execution_count": 13,
   "metadata": {
    "id": "9nTskERjAF5M"
   },
   "outputs": [],
   "source": [
    "# label_encoder = LabelEncoder()\n",
    "# data['Geography'] = label_encoder.fit_transform(data['Geography'])\n",
    "# data['Gender'] = label_encoder.fit_transform(data['Gender'])\n",
    "# data['Surname'] = label_encoder.fit_transform(data['Surname'])"
   ]
  },
  {
   "cell_type": "markdown",
   "metadata": {
    "id": "Q5iO08h1EqSO"
   },
   "source": [
    "#### 3. Разделите данные на train (80%) и test (20%) любым способом\n",
    "\n",
    "1. Для задачи линейной регрессии, целевой признак Age<br> Получите датасеты:\n",
    "X_reg_train, X_reg_test, y_reg_train, y_reg_test\n",
    "\n",
    "2. Для задачи логистической регрессии. Целевой признак Exited<br> Получите датасеты:\n",
    "X_cl_train, X_cl_test, y_cl_train, y_cl_test"
   ]
  },
  {
   "cell_type": "code",
   "execution_count": 14,
   "metadata": {
    "id": "CrWaReJpzBYI"
   },
   "outputs": [],
   "source": [
    "X_reg_train, X_reg_test, y_reg_train, y_reg_test = train_test_split(data.drop(columns='Age'), data.Age, test_size=0.2, random_state=42)\n",
    "X_cl_train, X_cl_test, y_cl_train, y_cl_test = train_test_split(data.drop(columns='Exited'), data.Exited, test_size=0.2, random_state=42)"
   ]
  },
  {
   "cell_type": "markdown",
   "metadata": {
    "id": "11YzOHcpEVJ3"
   },
   "source": [
    "#### 4. Стандартизируйте данные для классификации или регресии, если это необходимо."
   ]
  },
  {
   "cell_type": "code",
   "execution_count": 15,
   "metadata": {
    "id": "eRI7-Ryx8X0H"
   },
   "outputs": [],
   "source": [
    "scaler = StandardScaler()\n",
    "X_reg_train_scaled = scaler.fit_transform(X_reg_train)\n",
    "X_reg_test_scaled = scaler.transform(X_reg_test)"
   ]
  },
  {
   "cell_type": "code",
   "execution_count": 16,
   "metadata": {
    "id": "lURnwiJE8XT1"
   },
   "outputs": [],
   "source": [
    "X_cl_train_scaled = scaler.fit_transform(X_cl_train)\n",
    "X_cl_test_scaled = scaler.transform(X_cl_test)"
   ]
  },
  {
   "cell_type": "markdown",
   "metadata": {
    "id": "3LVrUJ1OAru8"
   },
   "source": [
    "## 4. Работа с ml моделями"
   ]
  },
  {
   "cell_type": "markdown",
   "metadata": {
    "id": "i1Rmx35DzUUq"
   },
   "source": [
    "#### 1. Реализуйте модель линейной регрессии для поля 'Age' аналитическим способом, используя формулу весов, полученную от минимизации ошибок по методу наименьших квадратов. \n",
    "\n",
    "$ w = (X^TX)^{-1}X^TY $"
   ]
  },
  {
   "cell_type": "code",
   "execution_count": 17,
   "metadata": {
    "id": "i9TiXoLa0hAD"
   },
   "outputs": [],
   "source": [
    "# Создайте функцию, которая принимает значения выборок, полученных выше (X_reg_train, X_reg_test, y_reg_train, y_reg_test) и \n",
    "# выдаёт среднюю абсолютную ошибку и корень из среднеквадратичной ошибки по тестовой выборке\n",
    "\n",
    "def lin_reg_1(X_tr, y_tr, X_te, y_te):\n",
    "    \n",
    "    X_tr = np.column_stack((np.ones(len(X_tr)), X_tr))\n",
    "    X_te = np.column_stack((np.ones(len(X_te)), X_te))\n",
    "    \n",
    "    weights = np.linalg.inv(X_tr.T.dot(X_tr)).dot(X_tr.T).dot(y_tr)\n",
    "    y_pred = np.dot(X_te, weights)\n",
    "    \n",
    "    mae = np.mean(np.abs(y_pred - y_te))\n",
    "    mse = np.sqrt(np.mean((y_pred - y_te) ** 2))\n",
    "    \n",
    "    return mae, mse"
   ]
  },
  {
   "cell_type": "code",
   "execution_count": 18,
   "metadata": {
    "id": "gjtWcAOW8hQx"
   },
   "outputs": [
    {
     "data": {
      "text/plain": [
       "(7.253149739759285, 9.830993464360446)"
      ]
     },
     "execution_count": 18,
     "metadata": {},
     "output_type": "execute_result"
    }
   ],
   "source": [
    "lin_reg_1(X_reg_train_scaled, y_reg_train, X_reg_test_scaled, y_reg_test)"
   ]
  },
  {
   "cell_type": "markdown",
   "metadata": {
    "id": "YtSFPQHX5W5L"
   },
   "source": [
    "#### 2. Реализуйте модель линейной регрессии при помощи любого готового пакета, сравните полученное mae из двух моделей, из этого решения и полученного выше. Сделайте выводы."
   ]
  },
  {
   "cell_type": "code",
   "execution_count": 19,
   "metadata": {
    "id": "raoRsCTL8iyG"
   },
   "outputs": [],
   "source": [
    "def lin_reg_sklearn(X_tr, y_tr, X_te, y_te):\n",
    "    model = LinearRegression()\n",
    "    model.fit(X_tr, y_tr)\n",
    "    y_pred = model.predict(X_te)\n",
    "    \n",
    "    mae = mean_absolute_error(y_te, y_pred)\n",
    "    mse = mean_squared_error(y_te, y_pred, squared=False)  \n",
    "    \n",
    "    return mae, mse"
   ]
  },
  {
   "cell_type": "code",
   "execution_count": 20,
   "metadata": {
    "id": "N265_f1AIez7"
   },
   "outputs": [
    {
     "data": {
      "text/plain": [
       "(7.253149739759286, 9.830993464360446)"
      ]
     },
     "execution_count": 20,
     "metadata": {},
     "output_type": "execute_result"
    }
   ],
   "source": [
    "lin_reg_sklearn(X_reg_train_scaled, y_reg_train, X_reg_test_scaled, y_reg_test)"
   ]
  },
  {
   "cell_type": "markdown",
   "metadata": {
    "id": "TMJYDGH05sk1"
   },
   "source": [
    "#### 3. Реализуйте модель логистической регрессии для поля 'Exited'"
   ]
  },
  {
   "cell_type": "markdown",
   "metadata": {
    "id": "9sGcwyhzIuoi"
   },
   "source": [
    "1. Напишите функцию активации, которую в дальнейшем будете использовать. <br>\n",
    "$y_{pred}(y') = \\frac{1}{1 + e^{-\\langle y' \\rangle}}\n",
    "$"
   ]
  },
  {
   "cell_type": "code",
   "execution_count": 21,
   "metadata": {
    "id": "1q2lDuBGMAl3"
   },
   "outputs": [],
   "source": [
    "def sigmoid(z):\n",
    "    return 1 / (1 + np.exp(-z))"
   ]
  },
  {
   "cell_type": "markdown",
   "metadata": {
    "id": "aMUjmLYOmmux"
   },
   "source": [
    "2. Напишите функцию кроссэнтропии, проверьте работает ли она, функция не должна ничего возвращать, дальше понадобится только тело функции <br>\n",
    "$L(w) = -y\\, log\\,y_{pred} - (1-y)\\,log\\,(1-y_{pred})$"
   ]
  },
  {
   "cell_type": "code",
   "execution_count": 22,
   "metadata": {
    "id": "C7CgVcmxj4ay"
   },
   "outputs": [],
   "source": [
    "def cross_entropy(y, y_pred):\n",
    "    \n",
    "    y = np.array(y)\n",
    "    y_pred = np.array(y_pred)\n",
    "    \n",
    "    loss = -np.mean(y * np.log(y_pred) + (1 - y) * np.log(1 - y_pred))\n",
    "    print(\"Значение функции кросс-энтропии:\", loss)"
   ]
  },
  {
   "cell_type": "markdown",
   "metadata": {
    "id": "uXYcFR_N0u50"
   },
   "source": [
    "3. Дополните архитектуру логистической регрессии. Обучите и предскажите результаты по тестовой выборки раннее полученнх данных для классификации. (X_cl_train, X_cl_test, y_cl_train, y_cl_test). <br>\n",
    "Выведите classification_report из пакета sklearn. Получите weighted avg >= 0.68 по каждой метрике из отчёта"
   ]
  },
  {
   "cell_type": "code",
   "execution_count": 23,
   "metadata": {
    "id": "sNU2Uz0cawvi"
   },
   "outputs": [],
   "source": [
    "class Hand_made_Logistic_reg:\n",
    "    \n",
    "    #Здесь ваша функция сигмоиды \n",
    "    def sigmoid(self, h):\n",
    "        return 1 / (1 + np.exp(-h))\n",
    "\n",
    "\n",
    "    def loss_function(self, X, y, weights): \n",
    "        # если смотреть на функцию потерь, то y_pred в ней это:\n",
    "        y_hat = np.dot(X, weights)\n",
    "\n",
    "        #здесь описывается функция потерь - кросс энтропия \n",
    "        # вставьте своё созданное выше выражение в скобки\n",
    "        return -np.sum(y * np.log(self.sigmoid(y_hat)) + (1 - y) * np.log(1 - self.sigmoid(y_hat))) / len(X) #((не забудьте self рядом с функциями, которые определены внутри класса))\n",
    "\n",
    "    \n",
    "    def fit(self, X, y, epochs=1000, lr=0.01):      \n",
    "        loss = []\n",
    "\n",
    "        weights = np.random.rand(X.shape[1])\n",
    "        N = X.shape[0] #кол-во cтрочек в датасете \n",
    "                 \n",
    "        for epoch in range(epochs):        \n",
    "            # Градиентный спуск:\n",
    "            y_hat = self.sigmoid(np.dot(X, weights))            \n",
    "            #Здесь функция обновления весов \n",
    "            #Запишите функцию обновления весов на каждом шаге, здесь пригодится lr и N\n",
    "            weights -= lr * np.dot(X.T, (y_hat - y)) / N\n",
    "            #Запись ошибок в список\n",
    "            loss.append(self.loss_function(X, y, weights))\n",
    "        \n",
    "            #Отображение ошибок по эпохам во время обучения\n",
    "            print('Эпоха:', epoch, 'Loss:', loss[-1])\n",
    "        self.weights = weights\n",
    "        self.loss = loss\n",
    "     \n",
    "    \n",
    "    def predict(self, X):        \n",
    "        # скалярное умножение весов и новых значений х\n",
    "        y_hat = np.dot(X, self.weights)\n",
    "        # возвращение списка значений, которые выше определенного уровня вероятности\n",
    "        return [1 if x > 0.8 else 0 for x in self.sigmoid(y_hat)]"
   ]
  },
  {
   "cell_type": "code",
   "execution_count": 24,
   "metadata": {
    "id": "4f182YPv33Jy"
   },
   "outputs": [
    {
     "name": "stdout",
     "output_type": "stream",
     "text": [
      "Эпоха: 0 Loss: 1.151094881087412\n",
      "Эпоха: 1 Loss: 1.1499522700453664\n",
      "Эпоха: 2 Loss: 1.1488111304748645\n",
      "Эпоха: 3 Loss: 1.1476714632628664\n",
      "Эпоха: 4 Loss: 1.1465332692928178\n",
      "Эпоха: 5 Loss: 1.1453965494446283\n",
      "Эпоха: 6 Loss: 1.144261304594656\n",
      "Эпоха: 7 Loss: 1.143127535615685\n",
      "Эпоха: 8 Loss: 1.1419952433769094\n",
      "Эпоха: 9 Loss: 1.1408644287439142\n",
      "Эпоха: 10 Loss: 1.1397350925786554\n",
      "Эпоха: 11 Loss: 1.138607235739441\n",
      "Эпоха: 12 Loss: 1.1374808590809133\n",
      "Эпоха: 13 Loss: 1.1363559634540301\n",
      "Эпоха: 14 Loss: 1.1352325497060436\n",
      "Эпоха: 15 Loss: 1.1341106186804832\n",
      "Эпоха: 16 Loss: 1.1329901712171369\n",
      "Эпоха: 17 Loss: 1.1318712081520295\n",
      "Эпоха: 18 Loss: 1.130753730317407\n",
      "Эпоха: 19 Loss: 1.1296377385417142\n",
      "Эпоха: 20 Loss: 1.1285232336495783\n",
      "Эпоха: 21 Loss: 1.1274102164617874\n",
      "Эпоха: 22 Loss: 1.126298687795273\n",
      "Эпоха: 23 Loss: 1.1251886484630895\n",
      "Эпоха: 24 Loss: 1.124080099274395\n",
      "Эпоха: 25 Loss: 1.1229730410344325\n",
      "Эпоха: 26 Loss: 1.1218674745445105\n",
      "Эпоха: 27 Loss: 1.120763400601983\n",
      "Эпоха: 28 Loss: 1.1196608200002311\n",
      "Эпоха: 29 Loss: 1.1185597335286415\n",
      "Эпоха: 30 Loss: 1.117460141972589\n",
      "Эпоха: 31 Loss: 1.1163620461134167\n",
      "Эпоха: 32 Loss: 1.115265446728415\n",
      "Эпоха: 33 Loss: 1.1141703445908047\n",
      "Эпоха: 34 Loss: 1.1130767404697137\n",
      "Эпоха: 35 Loss: 1.1119846351301605\n",
      "Эпоха: 36 Loss: 1.1108940293330334\n",
      "Эпоха: 37 Loss: 1.10980492383507\n",
      "Эпоха: 38 Loss: 1.1087173193888389\n",
      "Эпоха: 39 Loss: 1.1076312167427202\n",
      "Эпоха: 40 Loss: 1.1065466166408824\n",
      "Эпоха: 41 Loss: 1.1054635198232672\n",
      "Эпоха: 42 Loss: 1.1043819270255673\n",
      "Эпоха: 43 Loss: 1.103301838979205\n",
      "Эпоха: 44 Loss: 1.102223256411317\n",
      "Эпоха: 45 Loss: 1.1011461800447289\n",
      "Эпоха: 46 Loss: 1.1000706105979399\n",
      "Эпоха: 47 Loss: 1.0989965487851001\n",
      "Эпоха: 48 Loss: 1.0979239953159916\n",
      "Эпоха: 49 Loss: 1.0968529508960085\n",
      "Эпоха: 50 Loss: 1.095783416226137\n",
      "Эпоха: 51 Loss: 1.094715392002935\n",
      "Эпоха: 52 Loss: 1.0936488789185124\n",
      "Эпоха: 53 Loss: 1.0925838776605106\n",
      "Эпоха: 54 Loss: 1.0915203889120833\n",
      "Эпоха: 55 Loss: 1.0904584133518755\n",
      "Эпоха: 56 Loss: 1.0893979516540044\n",
      "Эпоха: 57 Loss: 1.0883390044880383\n",
      "Эпоха: 58 Loss: 1.0872815725189773\n",
      "Эпоха: 59 Loss: 1.086225656407232\n",
      "Эпоха: 60 Loss: 1.0851712568086054\n",
      "Эпоха: 61 Loss: 1.0841183743742708\n",
      "Эпоха: 62 Loss: 1.0830670097507527\n",
      "Эпоха: 63 Loss: 1.082017163579906\n",
      "Эпоха: 64 Loss: 1.0809688364988963\n",
      "Эпоха: 65 Loss: 1.0799220291401799\n",
      "Эпоха: 66 Loss: 1.0788767421314824\n",
      "Эпоха: 67 Loss: 1.0778329760957799\n",
      "Эпоха: 68 Loss: 1.076790731651279\n",
      "Эпоха: 69 Loss: 1.0757500094113945\n",
      "Эпоха: 70 Loss: 1.0747108099847311\n",
      "Эпоха: 71 Loss: 1.0736731339750631\n",
      "Эпоха: 72 Loss: 1.0726369819813129\n",
      "Эпоха: 73 Loss: 1.0716023545975315\n",
      "Эпоха: 74 Loss: 1.0705692524128794\n",
      "Эпоха: 75 Loss: 1.0695376760116038\n",
      "Эпоха: 76 Loss: 1.0685076259730213\n",
      "Эпоха: 77 Loss: 1.0674791028714952\n",
      "Эпоха: 78 Loss: 1.0664521072764164\n",
      "Эпоха: 79 Loss: 1.0654266397521837\n",
      "Эпоха: 80 Loss: 1.0644027008581827\n",
      "Эпоха: 81 Loss: 1.063380291148765\n",
      "Эпоха: 82 Loss: 1.06235941117323\n",
      "Эпоха: 83 Loss: 1.0613400614758024\n",
      "Эпоха: 84 Loss: 1.0603222425956145\n",
      "Эпоха: 85 Loss: 1.0593059550666826\n",
      "Эпоха: 86 Loss: 1.0582911994178907\n",
      "Эпоха: 87 Loss: 1.057277976172968\n",
      "Эпоха: 88 Loss: 1.0562662858504674\n",
      "Эпоха: 89 Loss: 1.0552561289637497\n",
      "Эпоха: 90 Loss: 1.054247506020959\n",
      "Эпоха: 91 Loss: 1.0532404175250052\n",
      "Эпоха: 92 Loss: 1.0522348639735428\n",
      "Эпоха: 93 Loss: 1.0512308458589514\n",
      "Эпоха: 94 Loss: 1.0502283636683145\n",
      "Эпоха: 95 Loss: 1.0492274178834016\n",
      "Эпоха: 96 Loss: 1.048228008980645\n",
      "Эпоха: 97 Loss: 1.0472301374311226\n",
      "Эпоха: 98 Loss: 1.0462338037005368\n",
      "Эпоха: 99 Loss: 1.0452390082491938\n",
      "Эпоха: 100 Loss: 1.0442457515319856\n",
      "Эпоха: 101 Loss: 1.0432540339983667\n",
      "Эпоха: 102 Loss: 1.042263856092338\n",
      "Эпоха: 103 Loss: 1.041275218252424\n",
      "Эпоха: 104 Loss: 1.040288120911655\n",
      "Эпоха: 105 Loss: 1.039302564497545\n",
      "Эпоха: 106 Loss: 1.0383185494320746\n",
      "Эпоха: 107 Loss: 1.037336076131668\n",
      "Эпоха: 108 Loss: 1.0363551450071757\n",
      "Эпоха: 109 Loss: 1.0353757564638544\n",
      "Эпоха: 110 Loss: 1.0343979109013461\n",
      "Эпоха: 111 Loss: 1.03342160871366\n",
      "Эпоха: 112 Loss: 1.032446850289151\n",
      "Эпоха: 113 Loss: 1.0314736360105021\n",
      "Эпоха: 114 Loss: 1.0305019662547024\n",
      "Эпоха: 115 Loss: 1.0295318413930306\n",
      "Эпоха: 116 Loss: 1.0285632617910327\n",
      "Эпоха: 117 Loss: 1.0275962278085045\n",
      "Эпоха: 118 Loss: 1.0266307397994694\n",
      "Эпоха: 119 Loss: 1.0256667981121639\n",
      "Эпоха: 120 Loss: 1.024704403089013\n",
      "Эпоха: 121 Loss: 1.0237435550666143\n",
      "Эпоха: 122 Loss: 1.022784254375717\n",
      "Эпоха: 123 Loss: 1.0218265013412038\n",
      "Эпоха: 124 Loss: 1.0208702962820704\n",
      "Эпоха: 125 Loss: 1.0199156395114084\n",
      "Эпоха: 126 Loss: 1.0189625313363837\n",
      "Эпоха: 127 Loss: 1.01801097205822\n",
      "Эпоха: 128 Loss: 1.0170609619721778\n",
      "Эпоха: 129 Loss: 1.016112501367536\n",
      "Эпоха: 130 Loss: 1.015165590527574\n",
      "Эпоха: 131 Loss: 1.0142202297295522\n",
      "Эпоха: 132 Loss: 1.0132764192446926\n",
      "Эпоха: 133 Loss: 1.0123341593381605\n",
      "Эпоха: 134 Loss: 1.0113934502690471\n",
      "Эпоха: 135 Loss: 1.010454292290349\n",
      "Эпоха: 136 Loss: 1.0095166856489504\n",
      "Эпоха: 137 Loss: 1.0085806305856049\n",
      "Эпоха: 138 Loss: 1.007646127334917\n",
      "Эпоха: 139 Loss: 1.0067131761253236\n",
      "Эпоха: 140 Loss: 1.0057817771790754\n",
      "Эпоха: 141 Loss: 1.0048519307122195\n",
      "Эпоха: 142 Loss: 1.0039236369345803\n",
      "Эпоха: 143 Loss: 1.0029968960497417\n",
      "Эпоха: 144 Loss: 1.00207170825503\n",
      "Эпоха: 145 Loss: 1.0011480737414944\n",
      "Эпоха: 146 Loss: 1.0002259926938903\n",
      "Эпоха: 147 Loss: 0.9993054652906607\n",
      "Эпоха: 148 Loss: 0.9983864917039189\n",
      "Эпоха: 149 Loss: 0.9974690720994308\n",
      "Эпоха: 150 Loss: 0.9965532066365977\n",
      "Эпоха: 151 Loss: 0.9956388954684375\n",
      "Эпоха: 152 Loss: 0.9947261387415689\n",
      "Эпоха: 153 Loss: 0.9938149365961927\n",
      "Эпоха: 154 Loss: 0.9929052891660751\n",
      "Эпоха: 155 Loss: 0.9919971965785309\n",
      "Эпоха: 156 Loss: 0.9910906589544052\n",
      "Эпоха: 157 Loss: 0.990185676408058\n",
      "Эпоха: 158 Loss: 0.9892822490473456\n",
      "Эпоха: 159 Loss: 0.9883803769736053\n",
      "Эпоха: 160 Loss: 0.9874800602816369\n",
      "Эпоха: 161 Loss: 0.9865812990596876\n",
      "Эпоха: 162 Loss: 0.9856840933894345\n",
      "Эпоха: 163 Loss: 0.9847884433459687\n",
      "Эпоха: 164 Loss: 0.9838943489977782\n",
      "Эпоха: 165 Loss: 0.9830018104067317\n",
      "Эпоха: 166 Loss: 0.9821108276280629\n",
      "Эпоха: 167 Loss: 0.9812214007103544\n",
      "Эпоха: 168 Loss: 0.9803335296955203\n",
      "Эпоха: 169 Loss: 0.9794472146187925\n",
      "Эпоха: 170 Loss: 0.9785624555087029\n",
      "Эпоха: 171 Loss: 0.9776792523870682\n",
      "Эпоха: 172 Loss: 0.9767976052689753\n",
      "Эпоха: 173 Loss: 0.9759175141627643\n",
      "Эпоха: 174 Loss: 0.9750389790700138\n",
      "Эпоха: 175 Loss: 0.9741619999855257\n",
      "Эпоха: 176 Loss: 0.9732865768973092\n",
      "Эпоха: 177 Loss: 0.9724127097865676\n",
      "Эпоха: 178 Loss: 0.9715403986276799\n",
      "Эпоха: 179 Loss: 0.9706696433881898\n",
      "Эпоха: 180 Loss: 0.9698004440287877\n",
      "Эпоха: 181 Loss: 0.9689328005032988\n",
      "Эпоха: 182 Loss: 0.9680667127586656\n",
      "Эпоха: 183 Loss: 0.9672021807349362\n",
      "Эпоха: 184 Loss: 0.9663392043652484\n",
      "Эпоха: 185 Loss: 0.9654777835758153\n",
      "Эпоха: 186 Loss: 0.9646179182859126\n",
      "Эпоха: 187 Loss: 0.963759608407863\n",
      "Эпоха: 188 Loss: 0.9629028538470236\n",
      "Эпоха: 189 Loss: 0.9620476545017719\n",
      "Эпоха: 190 Loss: 0.961194010263491\n",
      "Эпоха: 191 Loss: 0.9603419210165585\n",
      "Эпоха: 192 Loss: 0.9594913866383306\n",
      "Эпоха: 193 Loss: 0.9586424069991302\n",
      "Эпоха: 194 Loss: 0.9577949819622338\n",
      "Эпоха: 195 Loss: 0.9569491113838584\n",
      "Эпоха: 196 Loss: 0.9561047951131479\n",
      "Эпоха: 197 Loss: 0.9552620329921618\n",
      "Эпоха: 198 Loss: 0.9544208248558611\n",
      "Эпоха: 199 Loss: 0.9535811705320972\n",
      "Эпоха: 200 Loss: 0.9527430698415983\n",
      "Эпоха: 201 Loss: 0.9519065225979582\n",
      "Эпоха: 202 Loss: 0.9510715286076237\n",
      "Эпоха: 203 Loss: 0.950238087669883\n",
      "Эпоха: 204 Loss: 0.9494061995768537\n",
      "Эпоха: 205 Loss: 0.9485758641134712\n",
      "Эпоха: 206 Loss: 0.9477470810574772\n",
      "Эпоха: 207 Loss: 0.9469198501794084\n",
      "Эпоха: 208 Loss: 0.9460941712425852\n",
      "Эпоха: 209 Loss: 0.9452700440031007\n",
      "Эпоха: 210 Loss: 0.9444474682098096\n",
      "Эпоха: 211 Loss: 0.9436264436043177\n",
      "Эпоха: 212 Loss: 0.9428069699209711\n",
      "Эпоха: 213 Loss: 0.9419890468868457\n",
      "Эпоха: 214 Loss: 0.9411726742217368\n",
      "Эпоха: 215 Loss: 0.9403578516381486\n",
      "Эпоха: 216 Loss: 0.9395445788412853\n",
      "Эпоха: 217 Loss: 0.9387328555290398\n",
      "Эпоха: 218 Loss: 0.937922681391985\n",
      "Эпоха: 219 Loss: 0.9371140561133632\n",
      "Эпоха: 220 Loss: 0.9363069793690781\n",
      "Эпоха: 221 Loss: 0.9355014508276842\n",
      "Эпоха: 222 Loss: 0.9346974701503782\n",
      "Эпоха: 223 Loss: 0.9338950369909899\n",
      "Эпоха: 224 Loss: 0.9330941509959737\n",
      "Эпоха: 225 Loss: 0.9322948118043999\n",
      "Эпоха: 226 Loss: 0.9314970190479456\n",
      "Эпоха: 227 Loss: 0.9307007723508874\n",
      "Эпоха: 228 Loss: 0.9299060713300925\n",
      "Эпоха: 229 Loss: 0.9291129155950104\n",
      "Эпоха: 230 Loss: 0.9283213047476666\n",
      "Эпоха: 231 Loss: 0.927531238382653\n",
      "Эпоха: 232 Loss: 0.9267427160871218\n",
      "Эпоха: 233 Loss: 0.925955737440777\n",
      "Эпоха: 234 Loss: 0.9251703020158687\n",
      "Эпоха: 235 Loss: 0.9243864093771851\n",
      "Эпоха: 236 Loss: 0.9236040590820456\n",
      "Эпоха: 237 Loss: 0.9228232506802942\n",
      "Эпоха: 238 Loss: 0.922043983714294\n",
      "Эпоха: 239 Loss: 0.9212662577189196\n",
      "Эпоха: 240 Loss: 0.9204900722215512\n",
      "Эпоха: 241 Loss: 0.9197154267420695\n",
      "Эпоха: 242 Loss: 0.9189423207928492\n",
      "Эпоха: 243 Loss: 0.918170753878753\n",
      "Эпоха: 244 Loss: 0.917400725497127\n",
      "Эпоха: 245 Loss: 0.9166322351377951\n",
      "Эпоха: 246 Loss: 0.9158652822830539\n",
      "Эпоха: 247 Loss: 0.9150998664076674\n",
      "Эпоха: 248 Loss: 0.9143359869788633\n",
      "Эпоха: 249 Loss: 0.9135736434563273\n",
      "Эпоха: 250 Loss: 0.9128128352921995\n",
      "Эпоха: 251 Loss: 0.9120535619310696\n",
      "Эпоха: 252 Loss: 0.9112958228099736\n",
      "Эпоха: 253 Loss: 0.9105396173583895\n",
      "Эпоха: 254 Loss: 0.9097849449982338\n",
      "Эпоха: 255 Loss: 0.9090318051438581\n",
      "Эпоха: 256 Loss: 0.9082801972020454\n",
      "Эпоха: 257 Loss: 0.9075301205720078\n",
      "Эпоха: 258 Loss: 0.9067815746453828\n",
      "Эпоха: 259 Loss: 0.9060345588062314\n",
      "Эпоха: 260 Loss: 0.9052890724310352\n",
      "Эпоха: 261 Loss: 0.9045451148886929\n",
      "Эпоха: 262 Loss: 0.9038026855405211\n",
      "Эпоха: 263 Loss: 0.9030617837402489\n",
      "Эпоха: 264 Loss: 0.9023224088340185\n",
      "Эпоха: 265 Loss: 0.9015845601603827\n",
      "Эпоха: 266 Loss: 0.9008482370503038\n",
      "Эпоха: 267 Loss: 0.9001134388271522\n",
      "Эпоха: 268 Loss: 0.8993801648067056\n",
      "Эпоха: 269 Loss: 0.8986484142971478\n",
      "Эпоха: 270 Loss: 0.897918186599069\n",
      "Эпоха: 271 Loss: 0.8971894810054638\n",
      "Эпоха: 272 Loss: 0.896462296801733\n",
      "Эпоха: 273 Loss: 0.8957366332656816\n",
      "Эпоха: 274 Loss: 0.8950124896675207\n",
      "Эпоха: 275 Loss: 0.894289865269866\n",
      "Эпоха: 276 Loss: 0.8935687593277406\n",
      "Эпоха: 277 Loss: 0.8928491710885738\n",
      "Эпоха: 278 Loss: 0.8921310997922026\n",
      "Эпоха: 279 Loss: 0.8914145446708738\n",
      "Эпоха: 280 Loss: 0.8906995049492441\n",
      "Эпоха: 281 Loss: 0.8899859798443821\n",
      "Эпоха: 282 Loss: 0.8892739685657702\n",
      "Эпоха: 283 Loss: 0.8885634703153067\n",
      "Эпоха: 284 Loss: 0.8878544842873073\n",
      "Эпоха: 285 Loss: 0.8871470096685079\n",
      "Эпоха: 286 Loss: 0.8864410456380671\n",
      "Эпоха: 287 Loss: 0.8857365913675691\n",
      "Эпоха: 288 Loss: 0.885033646021026\n",
      "Эпоха: 289 Loss: 0.8843322087548819\n",
      "Эпоха: 290 Loss: 0.8836322787180154\n",
      "Эпоха: 291 Loss: 0.8829338550517437\n",
      "Эпоха: 292 Loss: 0.882236936889826\n",
      "Эпоха: 293 Loss: 0.8815415233584677\n",
      "Эпоха: 294 Loss: 0.8808476135763245\n",
      "Эпоха: 295 Loss: 0.8801552066545062\n",
      "Эпоха: 296 Loss: 0.8794643016965826\n",
      "Эпоха: 297 Loss: 0.8787748977985873\n",
      "Эпоха: 298 Loss: 0.8780869940490219\n",
      "Эпоха: 299 Loss: 0.877400589528863\n",
      "Эпоха: 300 Loss: 0.8767156833115666\n",
      "Эпоха: 301 Loss: 0.8760322744630732\n",
      "Эпоха: 302 Loss: 0.8753503620418144\n",
      "Эпоха: 303 Loss: 0.8746699450987186\n",
      "Эпоха: 304 Loss: 0.8739910226772175\n",
      "Эпоха: 305 Loss: 0.8733135938132516\n",
      "Эпоха: 306 Loss: 0.8726376575352777\n",
      "Эпоха: 307 Loss: 0.8719632128642751\n",
      "Эпоха: 308 Loss: 0.8712902588137533\n",
      "Эпоха: 309 Loss: 0.8706187943897585\n",
      "Эпоха: 310 Loss: 0.8699488185908815\n",
      "Эпоха: 311 Loss: 0.8692803304082647\n",
      "Эпоха: 312 Loss: 0.8686133288256108\n",
      "Эпоха: 313 Loss: 0.8679478128191902\n",
      "Эпоха: 314 Loss: 0.8672837813578494\n",
      "Эпоха: 315 Loss: 0.8666212334030192\n",
      "Эпоха: 316 Loss: 0.8659601679087243\n",
      "Эпоха: 317 Loss: 0.8653005838215904\n",
      "Эпоха: 318 Loss: 0.8646424800808552\n",
      "Эпоха: 319 Loss: 0.8639858556183758\n",
      "Эпоха: 320 Loss: 0.86333070935864\n",
      "Эпоха: 321 Loss: 0.8626770402187743\n",
      "Эпоха: 322 Loss: 0.8620248471085549\n",
      "Эпоха: 323 Loss: 0.8613741289304171\n",
      "Эпоха: 324 Loss: 0.8607248845794659\n",
      "Эпоха: 325 Loss: 0.8600771129434864\n",
      "Эпоха: 326 Loss: 0.8594308129029544\n",
      "Эпоха: 327 Loss: 0.8587859833310475\n",
      "Эпоха: 328 Loss: 0.8581426230936559\n",
      "Эпоха: 329 Loss: 0.8575007310493934\n",
      "Эпоха: 330 Loss: 0.85686030604961\n",
      "Эпоха: 331 Loss: 0.8562213469384021\n",
      "Эпоха: 332 Loss: 0.8555838525526258\n",
      "Эпоха: 333 Loss: 0.854947821721908\n",
      "Эпоха: 334 Loss: 0.8543132532686587\n",
      "Эпоха: 335 Loss: 0.8536801460080844\n",
      "Эпоха: 336 Loss: 0.8530484987481995\n",
      "Эпоха: 337 Loss: 0.8524183102898406\n",
      "Эпоха: 338 Loss: 0.8517895794266782\n",
      "Эпоха: 339 Loss: 0.8511623049452305\n",
      "Эпоха: 340 Loss: 0.8505364856248779\n",
      "Эпоха: 341 Loss: 0.8499121202378748\n",
      "Эпоха: 342 Loss: 0.8492892075493649\n",
      "Эпоха: 343 Loss: 0.8486677463173946\n",
      "Эпоха: 344 Loss: 0.8480477352929279\n",
      "Эпоха: 345 Loss: 0.8474291732198601\n",
      "Эпоха: 346 Loss: 0.8468120588350329\n",
      "Эпоха: 347 Loss: 0.8461963908682489\n",
      "Эпоха: 348 Loss: 0.8455821680422878\n",
      "Эпоха: 349 Loss: 0.8449693890729193\n",
      "Эпоха: 350 Loss: 0.8443580526689216\n",
      "Эпоха: 351 Loss: 0.8437481575320943\n",
      "Эпоха: 352 Loss: 0.843139702357276\n",
      "Эпоха: 353 Loss: 0.842532685832359\n",
      "Эпоха: 354 Loss: 0.8419271066383072\n",
      "Эпоха: 355 Loss: 0.8413229634491706\n",
      "Эпоха: 356 Loss: 0.840720254932103\n",
      "Эпоха: 357 Loss: 0.8401189797473788\n",
      "Эпоха: 358 Loss: 0.8395191365484097\n",
      "Эпоха: 359 Loss: 0.8389207239817618\n",
      "Эпоха: 360 Loss: 0.8383237406871726\n",
      "Эпоха: 361 Loss: 0.83772818529757\n",
      "Эпоха: 362 Loss: 0.8371340564390879\n",
      "Эпоха: 363 Loss: 0.8365413527310857\n",
      "Эпоха: 364 Loss: 0.8359500727861661\n",
      "Эпоха: 365 Loss: 0.8353602152101927\n",
      "Эпоха: 366 Loss: 0.8347717786023092\n",
      "Эпоха: 367 Loss: 0.8341847615549577\n",
      "Эпоха: 368 Loss: 0.8335991626538974\n",
      "Эпоха: 369 Loss: 0.8330149804782242\n",
      "Эпоха: 370 Loss: 0.8324322136003891\n",
      "Эпоха: 371 Loss: 0.8318508605862179\n",
      "Эпоха: 372 Loss: 0.8312709199949311\n",
      "Эпоха: 373 Loss: 0.8306923903791633\n",
      "Эпоха: 374 Loss: 0.8301152702849828\n",
      "Эпоха: 375 Loss: 0.8295395582519123\n",
      "Эпоха: 376 Loss: 0.8289652528129485\n",
      "Эпоха: 377 Loss: 0.8283923524945833\n",
      "Эпоха: 378 Loss: 0.8278208558168237\n",
      "Эпоха: 379 Loss: 0.827250761293213\n",
      "Эпоха: 380 Loss: 0.8266820674308513\n",
      "Эпоха: 381 Loss: 0.8261147727304173\n",
      "Эпоха: 382 Loss: 0.8255488756861894\n",
      "Эпоха: 383 Loss: 0.8249843747860661\n",
      "Эпоха: 384 Loss: 0.8244212685115895\n",
      "Эпоха: 385 Loss: 0.8238595553379655\n",
      "Эпоха: 386 Loss: 0.8232992337340865\n",
      "Эпоха: 387 Loss: 0.8227403021625537\n",
      "Эпоха: 388 Loss: 0.8221827590796988\n",
      "Эпоха: 389 Loss: 0.8216266029356065\n",
      "Эпоха: 390 Loss: 0.8210718321741384\n",
      "Эпоха: 391 Loss: 0.8205184452329537\n",
      "Эпоха: 392 Loss: 0.8199664405435335\n",
      "Эпоха: 393 Loss: 0.8194158165312042\n",
      "Эпоха: 394 Loss: 0.8188665716151594\n",
      "Эпоха: 395 Loss: 0.8183187042084846\n",
      "Эпоха: 396 Loss: 0.8177722127181803\n",
      "Эпоха: 397 Loss: 0.8172270955451857\n",
      "Эпоха: 398 Loss: 0.8166833510844023\n",
      "Эпоха: 399 Loss: 0.8161409777247188\n",
      "Эпоха: 400 Loss: 0.8155999738490345\n",
      "Эпоха: 401 Loss: 0.8150603378342841\n",
      "Эпоха: 402 Loss: 0.8145220680514618\n",
      "Эпоха: 403 Loss: 0.8139851628656463\n",
      "Эпоха: 404 Loss: 0.8134496206360257\n",
      "Эпоха: 405 Loss: 0.8129154397159218\n",
      "Эпоха: 406 Loss: 0.8123826184528161\n",
      "Эпоха: 407 Loss: 0.8118511551883745\n",
      "Эпоха: 408 Loss: 0.8113210482584723\n",
      "Эпоха: 409 Loss: 0.8107922959932207\n",
      "Эпоха: 410 Loss: 0.8102648967169916\n",
      "Эпоха: 411 Loss: 0.809738848748444\n",
      "Эпоха: 412 Loss: 0.8092141504005497\n",
      "Эпоха: 413 Loss: 0.8086907999806191\n",
      "Эпоха: 414 Loss: 0.808168795790328\n",
      "Эпоха: 415 Loss: 0.8076481361257438\n",
      "Эпоха: 416 Loss: 0.8071288192773513\n",
      "Эпоха: 417 Loss: 0.8066108435300804\n",
      "Эпоха: 418 Loss: 0.806094207163332\n",
      "Эпоха: 419 Loss: 0.8055789084510059\n",
      "Эпоха: 420 Loss: 0.8050649456615262\n",
      "Эпоха: 421 Loss: 0.8045523170578699\n",
      "Эпоха: 422 Loss: 0.8040410208975939\n",
      "Эпоха: 423 Loss: 0.8035310554328616\n",
      "Эпоха: 424 Loss: 0.8030224189104715\n",
      "Эпоха: 425 Loss: 0.8025151095718843\n",
      "Эпоха: 426 Loss: 0.8020091256532504\n",
      "Эпоха: 427 Loss: 0.8015044653854383\n",
      "Эпоха: 428 Loss: 0.8010011269940623\n",
      "Эпоха: 429 Loss: 0.800499108699511\n",
      "Эпоха: 430 Loss: 0.7999984087169753\n",
      "Эпоха: 431 Loss: 0.7994990252564762\n",
      "Эпоха: 432 Loss: 0.7990009565228945\n",
      "Эпоха: 433 Loss: 0.7985042007159986\n",
      "Эпоха: 434 Loss: 0.7980087560304729\n",
      "Эпоха: 435 Loss: 0.7975146206559472\n",
      "Эпоха: 436 Loss: 0.7970217927770261\n",
      "Эпоха: 437 Loss: 0.7965302705733166\n",
      "Эпоха: 438 Loss: 0.7960400522194581\n",
      "Эпоха: 439 Loss: 0.7955511358851518\n",
      "Эпоха: 440 Loss: 0.7950635197351898\n",
      "Эпоха: 441 Loss: 0.7945772019294847\n",
      "Эпоха: 442 Loss: 0.7940921806230983\n",
      "Эпоха: 443 Loss: 0.7936084539662729\n",
      "Эпоха: 444 Loss: 0.7931260201044595\n",
      "Эпоха: 445 Loss: 0.7926448771783482\n",
      "Эпоха: 446 Loss: 0.7921650233238986\n",
      "Эпоха: 447 Loss: 0.7916864566723688\n",
      "Эпоха: 448 Loss: 0.7912091753503466\n",
      "Эпоха: 449 Loss: 0.7907331774797792\n",
      "Эпоха: 450 Loss: 0.7902584611780037\n",
      "Эпоха: 451 Loss: 0.7897850245577765\n",
      "Эпоха: 452 Loss: 0.789312865727306\n",
      "Эпоха: 453 Loss: 0.7888419827902805\n",
      "Эпоха: 454 Loss: 0.7883723738459012\n",
      "Эпоха: 455 Loss: 0.7879040369889113\n",
      "Эпоха: 456 Loss: 0.7874369703096274\n",
      "Эпоха: 457 Loss: 0.7869711718939709\n",
      "Эпоха: 458 Loss: 0.7865066398234981\n",
      "Эпоха: 459 Loss: 0.7860433721754316\n",
      "Эпоха: 460 Loss: 0.7855813670226919\n",
      "Эпоха: 461 Loss: 0.785120622433928\n",
      "Эпоха: 462 Loss: 0.7846611364735487\n",
      "Эпоха: 463 Loss: 0.7842029072017545\n",
      "Эпоха: 464 Loss: 0.7837459326745683\n",
      "Эпоха: 465 Loss: 0.7832902109438675\n",
      "Эпоха: 466 Loss: 0.7828357400574154\n",
      "Эпоха: 467 Loss: 0.7823825180588925\n",
      "Эпоха: 468 Loss: 0.7819305429879286\n",
      "Эпоха: 469 Loss: 0.7814798128801347\n",
      "Эпоха: 470 Loss: 0.7810303257671335\n",
      "Эпоха: 471 Loss: 0.7805820796765939\n",
      "Эпоха: 472 Loss: 0.7801350726322597\n",
      "Эпоха: 473 Loss: 0.7796893026539846\n",
      "Эпоха: 474 Loss: 0.7792447677577621\n",
      "Эпоха: 475 Loss: 0.7788014659557586\n",
      "Эпоха: 476 Loss: 0.7783593952563456\n",
      "Эпоха: 477 Loss: 0.7779185536641313\n",
      "Эпоха: 478 Loss: 0.7774789391799937\n",
      "Эпоха: 479 Loss: 0.7770405498011121\n",
      "Эпоха: 480 Loss: 0.7766033835210001\n",
      "Эпоха: 481 Loss: 0.7761674383295376\n",
      "Эпоха: 482 Loss: 0.7757327122130037\n",
      "Эпоха: 483 Loss: 0.7752992031541082\n",
      "Эпоха: 484 Loss: 0.7748669091320256\n",
      "Эпоха: 485 Loss: 0.774435828122427\n",
      "Эпоха: 486 Loss: 0.7740059580975119\n",
      "Эпоха: 487 Loss: 0.7735772970260423\n",
      "Эпоха: 488 Loss: 0.7731498428733745\n",
      "Эпоха: 489 Loss: 0.7727235936014921\n",
      "Эпоха: 490 Loss: 0.7722985471690386\n",
      "Эпоха: 491 Loss: 0.7718747015313504\n",
      "Эпоха: 492 Loss: 0.7714520546404897\n",
      "Эпоха: 493 Loss: 0.771030604445277\n",
      "Эпоха: 494 Loss: 0.7706103488913247\n",
      "Эпоха: 495 Loss: 0.7701912859210689\n",
      "Эпоха: 496 Loss: 0.7697734134738032\n",
      "Эпоха: 497 Loss: 0.7693567294857117\n",
      "Эпоха: 498 Loss: 0.7689412318899013\n",
      "Эпоха: 499 Loss: 0.7685269186164356\n",
      "Эпоха: 500 Loss: 0.7681137875923671\n",
      "Эпоха: 501 Loss: 0.7677018367417713\n",
      "Эпоха: 502 Loss: 0.767291063985778\n",
      "Эпоха: 503 Loss: 0.7668814672426063\n",
      "Эпоха: 504 Loss: 0.766473044427597\n",
      "Эпоха: 505 Loss: 0.7660657934532448\n",
      "Эпоха: 506 Loss: 0.7656597122292328\n",
      "Эпоха: 507 Loss: 0.7652547986624653\n",
      "Эпоха: 508 Loss: 0.7648510506570999\n",
      "Эпоха: 509 Loss: 0.7644484661145824\n",
      "Эпоха: 510 Loss: 0.7640470429336781\n",
      "Эпоха: 511 Loss: 0.7636467790105066\n",
      "Эпоха: 512 Loss: 0.7632476722385736\n",
      "Эпоха: 513 Loss: 0.7628497205088054\n",
      "Эпоха: 514 Loss: 0.7624529217095808\n",
      "Эпоха: 515 Loss: 0.762057273726765\n",
      "Эпоха: 516 Loss: 0.761662774443743\n",
      "Эпоха: 517 Loss: 0.7612694217414516\n",
      "Эпоха: 518 Loss: 0.7608772134984142\n",
      "Эпоха: 519 Loss: 0.7604861475907726\n",
      "Эпоха: 520 Loss: 0.7600962218923206\n",
      "Эпоха: 521 Loss: 0.7597074342745375\n",
      "Эпоха: 522 Loss: 0.7593197826066209\n",
      "Эпоха: 523 Loss: 0.7589332647555194\n",
      "Эпоха: 524 Loss: 0.7585478785859666\n",
      "Эпоха: 525 Loss: 0.7581636219605137\n",
      "Эпоха: 526 Loss: 0.7577804927395623\n",
      "Эпоха: 527 Loss: 0.7573984887813981\n",
      "Эпоха: 528 Loss: 0.7570176079422237\n",
      "Эпоха: 529 Loss: 0.7566378480761912\n",
      "Эпоха: 530 Loss: 0.756259207035436\n",
      "Эпоха: 531 Loss: 0.755881682670109\n",
      "Эпоха: 532 Loss: 0.7555052728284103\n",
      "Эпоха: 533 Loss: 0.7551299753566211\n",
      "Эпоха: 534 Loss: 0.7547557880991382\n",
      "Эпоха: 535 Loss: 0.7543827088985053\n",
      "Эпоха: 536 Loss: 0.7540107355954471\n",
      "Эпоха: 537 Loss: 0.7536398660289007\n",
      "Эпоха: 538 Loss: 0.75327009803605\n",
      "Эпоха: 539 Loss: 0.7529014294523579\n",
      "Эпоха: 540 Loss: 0.7525338581115986\n",
      "Эпоха: 541 Loss: 0.7521673818458902\n",
      "Эпоха: 542 Loss: 0.7518019984857285\n",
      "Эпоха: 543 Loss: 0.7514377058600187\n",
      "Эпоха: 544 Loss: 0.751074501796108\n",
      "Эпоха: 545 Loss: 0.7507123841198188\n",
      "Эпоха: 546 Loss: 0.7503513506554806\n",
      "Эпоха: 547 Loss: 0.7499913992259626\n",
      "Эпоха: 548 Loss: 0.7496325276527066\n",
      "Эпоха: 549 Loss: 0.7492747337557585\n",
      "Эпоха: 550 Loss: 0.7489180153538019\n",
      "Эпоха: 551 Loss: 0.7485623702641894\n",
      "Эпоха: 552 Loss: 0.748207796302975\n",
      "Эпоха: 553 Loss: 0.7478542912849468\n",
      "Эпоха: 554 Loss: 0.7475018530236589\n",
      "Эпоха: 555 Loss: 0.7471504793314633\n",
      "Эпоха: 556 Loss: 0.7468001680195424\n",
      "Эпоха: 557 Loss: 0.7464509168979407\n",
      "Эпоха: 558 Loss: 0.7461027237755967\n",
      "Эпоха: 559 Loss: 0.7457555864603755\n",
      "Эпоха: 560 Loss: 0.7454095027590995\n",
      "Эпоха: 561 Loss: 0.7450644704775812\n",
      "Эпоха: 562 Loss: 0.7447204874206546\n",
      "Эпоха: 563 Loss: 0.7443775513922067\n",
      "Эпоха: 564 Loss: 0.7440356601952095\n",
      "Эпоха: 565 Loss: 0.7436948116317513\n",
      "Эпоха: 566 Loss: 0.7433550035030682\n",
      "Эпоха: 567 Loss: 0.7430162336095755\n",
      "Эпоха: 568 Loss: 0.7426784997508996\n",
      "Эпоха: 569 Loss: 0.7423417997259087\n",
      "Эпоха: 570 Loss: 0.7420061313327442\n",
      "Эпоха: 571 Loss: 0.741671492368852\n",
      "Эпоха: 572 Loss: 0.7413378806310136\n",
      "Эпоха: 573 Loss: 0.7410052939153772\n",
      "Эпоха: 574 Loss: 0.7406737300174884\n",
      "Эпоха: 575 Loss: 0.7403431867323216\n",
      "Эпоха: 576 Loss: 0.7400136618543103\n",
      "Эпоха: 577 Loss: 0.739685153177378\n",
      "Эпоха: 578 Loss: 0.7393576584949698\n",
      "Эпоха: 579 Loss: 0.739031175600081\n",
      "Эпоха: 580 Loss: 0.7387057022852901\n",
      "Эпоха: 581 Loss: 0.7383812363427872\n",
      "Эпоха: 582 Loss: 0.7380577755644055\n",
      "Эпоха: 583 Loss: 0.7377353177416515\n",
      "Эпоха: 584 Loss: 0.7374138606657349\n",
      "Эпоха: 585 Loss: 0.7370934021275993\n",
      "Эпоха: 586 Loss: 0.7367739399179514\n",
      "Эпоха: 587 Loss: 0.7364554718272917\n",
      "Эпоха: 588 Loss: 0.7361379956459445\n",
      "Эпоха: 589 Loss: 0.7358215091640872\n",
      "Эпоха: 590 Loss: 0.7355060101717804\n",
      "Эпоха: 591 Loss: 0.7351914964589976\n",
      "Эпоха: 592 Loss: 0.7348779658156543\n",
      "Эпоха: 593 Loss: 0.734565416031638\n",
      "Эпоха: 594 Loss: 0.7342538448968378\n",
      "Эпоха: 595 Loss: 0.7339432502011728\n",
      "Эпоха: 596 Loss: 0.7336336297346222\n",
      "Эпоха: 597 Loss: 0.7333249812872541\n",
      "Эпоха: 598 Loss: 0.7330173026492545\n",
      "Эпоха: 599 Loss: 0.7327105916109563\n",
      "Эпоха: 600 Loss: 0.7324048459628681\n",
      "Эпоха: 601 Loss: 0.7321000634957033\n",
      "Эпоха: 602 Loss: 0.7317962420004087\n",
      "Эпоха: 603 Loss: 0.7314933792681922\n",
      "Эпоха: 604 Loss: 0.7311914730905528\n",
      "Эпоха: 605 Loss: 0.7308905212593074\n",
      "Эпоха: 606 Loss: 0.7305905215666209\n",
      "Эпоха: 607 Loss: 0.7302914718050324\n",
      "Эпоха: 608 Loss: 0.729993369767485\n",
      "Эпоха: 609 Loss: 0.7296962132473527\n",
      "Эпоха: 610 Loss: 0.7294000000384689\n",
      "Эпоха: 611 Loss: 0.7291047279351542\n",
      "Эпоха: 612 Loss: 0.7288103947322434\n",
      "Эпоха: 613 Loss: 0.7285169982251141\n",
      "Эпоха: 614 Loss: 0.7282245362097135\n",
      "Эпоха: 615 Loss: 0.727933006482586\n",
      "Эпоха: 616 Loss: 0.7276424068409006\n",
      "Эпоха: 617 Loss: 0.7273527350824781\n",
      "Эпоха: 618 Loss: 0.7270639890058183\n",
      "Эпоха: 619 Loss: 0.726776166410126\n",
      "Эпоха: 620 Loss: 0.7264892650953393\n",
      "Эпоха: 621 Loss: 0.7262032828621559\n",
      "Эпоха: 622 Loss: 0.7259182175120591\n",
      "Эпоха: 623 Loss: 0.7256340668473451\n",
      "Эпоха: 624 Loss: 0.7253508286711494\n",
      "Эпоха: 625 Loss: 0.7250685007874726\n",
      "Эпоха: 626 Loss: 0.7247870810012073\n",
      "Эпоха: 627 Loss: 0.7245065671181636\n",
      "Эпоха: 628 Loss: 0.7242269569450959\n",
      "Эпоха: 629 Loss: 0.7239482482897276\n",
      "Эпоха: 630 Loss: 0.7236704389607788\n",
      "Эпоха: 631 Loss: 0.7233935267679893\n",
      "Эпоха: 632 Loss: 0.7231175095221469\n",
      "Эпоха: 633 Loss: 0.7228423850351116\n",
      "Эпоха: 634 Loss: 0.72256815111984\n",
      "Эпоха: 635 Loss: 0.7222948055904123\n",
      "Эпоха: 636 Loss: 0.7220223462620564\n",
      "Эпоха: 637 Loss: 0.7217507709511735\n",
      "Эпоха: 638 Loss: 0.7214800774753619\n",
      "Эпоха: 639 Loss: 0.7212102636534432\n",
      "Эпоха: 640 Loss: 0.7209413273054858\n",
      "Эпоха: 641 Loss: 0.72067326625283\n",
      "Эпоха: 642 Loss: 0.7204060783181123\n",
      "Эпоха: 643 Loss: 0.7201397613252903\n",
      "Эпоха: 644 Loss: 0.7198743130996651\n",
      "Эпоха: 645 Loss: 0.7196097314679077\n",
      "Эпоха: 646 Loss: 0.7193460142580811\n",
      "Эпоха: 647 Loss: 0.7190831592996654\n",
      "Эпоха: 648 Loss: 0.7188211644235805\n",
      "Эпоха: 649 Loss: 0.7185600274622107\n",
      "Эпоха: 650 Loss: 0.7182997462494272\n",
      "Эпоха: 651 Loss: 0.7180403186206122\n",
      "Эпоха: 652 Loss: 0.7177817424126818\n",
      "Эпоха: 653 Loss: 0.7175240154641089\n",
      "Эпоха: 654 Loss: 0.717267135614947\n",
      "Эпоха: 655 Loss: 0.7170111007068521\n",
      "Эпоха: 656 Loss: 0.716755908583106\n",
      "Эпоха: 657 Loss: 0.7165015570886389\n",
      "Эпоха: 658 Loss: 0.7162480440700517\n",
      "Эпоха: 659 Loss: 0.7159953673756386\n",
      "Эпоха: 660 Loss: 0.7157435248554093\n",
      "Эпоха: 661 Loss: 0.7154925143611109\n",
      "Эпоха: 662 Loss: 0.7152423337462507\n",
      "Эпоха: 663 Loss: 0.7149929808661166\n",
      "Эпоха: 664 Loss: 0.7147444535778009\n",
      "Эпоха: 665 Loss: 0.7144967497402198\n",
      "Эпоха: 666 Loss: 0.7142498672141366\n",
      "Эпоха: 667 Loss: 0.7140038038621827\n",
      "Эпоха: 668 Loss: 0.7137585575488774\n",
      "Эпоха: 669 Loss: 0.7135141261406518\n",
      "Эпоха: 670 Loss: 0.7132705075058673\n",
      "Эпоха: 671 Loss: 0.7130276995148379\n",
      "Эпоха: 672 Loss: 0.7127857000398503\n",
      "Эпоха: 673 Loss: 0.7125445069551851\n",
      "Эпоха: 674 Loss: 0.712304118137137\n",
      "Эпоха: 675 Loss: 0.7120645314640351\n",
      "Эпоха: 676 Loss: 0.711825744816263\n",
      "Эпоха: 677 Loss: 0.71158775607628\n",
      "Эпоха: 678 Loss: 0.7113505631286395\n",
      "Эпоха: 679 Loss: 0.7111141638600107\n",
      "Эпоха: 680 Loss: 0.7108785561591962\n",
      "Эпоха: 681 Loss: 0.7106437379171539\n",
      "Эпоха: 682 Loss: 0.7104097070270149\n",
      "Эпоха: 683 Loss: 0.7101764613841034\n",
      "Эпоха: 684 Loss: 0.7099439988859563\n",
      "Эпоха: 685 Loss: 0.7097123174323418\n",
      "Эпоха: 686 Loss: 0.7094814149252783\n",
      "Эпоха: 687 Loss: 0.7092512892690542\n",
      "Эпоха: 688 Loss: 0.7090219383702457\n",
      "Эпоха: 689 Loss: 0.7087933601377358\n",
      "Эпоха: 690 Loss: 0.7085655524827323\n",
      "Эпоха: 691 Loss: 0.7083385133187872\n",
      "Эпоха: 692 Loss: 0.7081122405618139\n",
      "Эпоха: 693 Loss: 0.7078867321301061\n",
      "Эпоха: 694 Loss: 0.7076619859443549\n",
      "Эпоха: 695 Loss: 0.7074379999276676\n",
      "Эпоха: 696 Loss: 0.7072147720055848\n",
      "Эпоха: 697 Loss: 0.7069923001060981\n",
      "Эпоха: 698 Loss: 0.7067705821596676\n",
      "Эпоха: 699 Loss: 0.7065496160992396\n",
      "Эпоха: 700 Loss: 0.706329399860263\n",
      "Эпоха: 701 Loss: 0.7061099313807074\n",
      "Эпоха: 702 Loss: 0.7058912086010791\n",
      "Эпоха: 703 Loss: 0.7056732294644384\n",
      "Эпоха: 704 Loss: 0.7054559919164168\n",
      "Эпоха: 705 Loss: 0.7052394939052319\n",
      "Эпоха: 706 Loss: 0.7050237333817064\n",
      "Эпоха: 707 Loss: 0.7048087082992817\n",
      "Эпоха: 708 Loss: 0.7045944166140362\n",
      "Эпоха: 709 Loss: 0.7043808562847\n",
      "Эпоха: 710 Loss: 0.7041680252726719\n",
      "Эпоха: 711 Loss: 0.7039559215420345\n",
      "Эпоха: 712 Loss: 0.7037445430595697\n",
      "Эпоха: 713 Loss: 0.7035338877947751\n",
      "Эпоха: 714 Loss: 0.7033239537198787\n",
      "Эпоха: 715 Loss: 0.7031147388098545\n",
      "Эпоха: 716 Loss: 0.7029062410424377\n",
      "Эпоха: 717 Loss: 0.7026984583981396\n",
      "Эпоха: 718 Loss: 0.7024913888602623\n",
      "Эпоха: 719 Loss: 0.7022850304149144\n",
      "Эпоха: 720 Loss: 0.7020793810510245\n",
      "Эпоха: 721 Loss: 0.7018744387603565\n",
      "Эпоха: 722 Loss: 0.7016702015375236\n",
      "Эпоха: 723 Loss: 0.7014666673800031\n",
      "Эпоха: 724 Loss: 0.7012638342881501\n",
      "Эпоха: 725 Loss: 0.7010617002652115\n",
      "Эпоха: 726 Loss: 0.7008602633173406\n",
      "Эпоха: 727 Loss: 0.7006595214536098\n",
      "Эпоха: 728 Loss: 0.700459472686025\n",
      "Эпоха: 729 Loss: 0.7002601150295391\n",
      "Эпоха: 730 Loss: 0.7000614465020656\n",
      "Эпоха: 731 Loss: 0.6998634651244906\n",
      "Эпоха: 732 Loss: 0.699666168920688\n",
      "Эпоха: 733 Loss: 0.6994695559175309\n",
      "Эпоха: 734 Loss: 0.6992736241449051\n",
      "Эпоха: 735 Loss: 0.699078371635722\n",
      "Эпоха: 736 Loss: 0.6988837964259312\n",
      "Эпоха: 737 Loss: 0.6986898965545328\n",
      "Эпоха: 738 Loss: 0.6984966700635903\n",
      "Эпоха: 739 Loss: 0.6983041149982422\n",
      "Эпоха: 740 Loss: 0.6981122294067148\n",
      "Эпоха: 741 Loss: 0.6979210113403339\n",
      "Эпоха: 742 Loss: 0.6977304588535371\n",
      "Эпоха: 743 Loss: 0.6975405700038851\n",
      "Эпоха: 744 Loss: 0.6973513428520737\n",
      "Эпоха: 745 Loss: 0.6971627754619454\n",
      "Эпоха: 746 Loss: 0.6969748659005006\n",
      "Эпоха: 747 Loss: 0.6967876122379092\n",
      "Эпоха: 748 Loss: 0.6966010125475217\n",
      "Эпоха: 749 Loss: 0.6964150649058799\n",
      "Эпоха: 750 Loss: 0.6962297673927289\n",
      "Эпоха: 751 Loss: 0.6960451180910264\n",
      "Эпоха: 752 Loss: 0.6958611150869549\n",
      "Эпоха: 753 Loss: 0.6956777564699312\n",
      "Эпоха: 754 Loss: 0.6954950403326181\n",
      "Эпоха: 755 Loss: 0.695312964770933\n",
      "Эпоха: 756 Loss: 0.6951315278840597\n",
      "Эпоха: 757 Loss: 0.6949507277744582\n",
      "Эпоха: 758 Loss: 0.6947705625478741\n",
      "Эпоха: 759 Loss: 0.6945910303133487\n",
      "Эпоха: 760 Loss: 0.6944121291832298\n",
      "Эпоха: 761 Loss: 0.6942338572731794\n",
      "Эпоха: 762 Loss: 0.6940562127021851\n",
      "Эпоха: 763 Loss: 0.6938791935925686\n",
      "Эпоха: 764 Loss: 0.693702798069995\n",
      "Эпоха: 765 Loss: 0.6935270242634825\n",
      "Эпоха: 766 Loss: 0.6933518703054106\n",
      "Эпоха: 767 Loss: 0.6931773343315301\n",
      "Эпоха: 768 Loss: 0.693003414480971\n",
      "Эпоха: 769 Loss: 0.6928301088962523\n",
      "Эпоха: 770 Loss: 0.6926574157232895\n",
      "Эпоха: 771 Loss: 0.6924853331114037\n",
      "Эпоха: 772 Loss: 0.6923138592133298\n",
      "Эпоха: 773 Loss: 0.692142992185225\n",
      "Эпоха: 774 Loss: 0.6919727301866769\n",
      "Эпоха: 775 Loss: 0.6918030713807114\n",
      "Эпоха: 776 Loss: 0.6916340139338002\n",
      "Эпоха: 777 Loss: 0.6914655560158703\n",
      "Эпоха: 778 Loss: 0.6912976958003095\n",
      "Эпоха: 779 Loss: 0.6911304314639756\n",
      "Эпоха: 780 Loss: 0.690963761187203\n",
      "Эпоха: 781 Loss: 0.6907976831538113\n",
      "Эпоха: 782 Loss: 0.6906321955511106\n",
      "Эпоха: 783 Loss: 0.6904672965699102\n",
      "Эпоха: 784 Loss: 0.6903029844045259\n",
      "Эпоха: 785 Loss: 0.6901392572527855\n",
      "Эпоха: 786 Loss: 0.6899761133160366\n",
      "Эпоха: 787 Loss: 0.6898135507991536\n",
      "Эпоха: 788 Loss: 0.6896515679105436\n",
      "Эпоха: 789 Loss: 0.6894901628621533\n",
      "Эпоха: 790 Loss: 0.689329333869475\n",
      "Эпоха: 791 Loss: 0.6891690791515539\n",
      "Эпоха: 792 Loss: 0.6890093969309932\n",
      "Эпоха: 793 Loss: 0.6888502854339607\n",
      "Эпоха: 794 Loss: 0.6886917428901947\n",
      "Эпоха: 795 Loss: 0.6885337675330104\n",
      "Эпоха: 796 Loss: 0.6883763575993046\n",
      "Эпоха: 797 Loss: 0.6882195113295623\n",
      "Эпоха: 798 Loss: 0.6880632269678616\n",
      "Эпоха: 799 Loss: 0.6879075027618803\n",
      "Эпоха: 800 Loss: 0.6877523369628996\n",
      "Эпоха: 801 Loss: 0.6875977278258111\n",
      "Эпоха: 802 Loss: 0.6874436736091204\n",
      "Эпоха: 803 Loss: 0.6872901725749533\n",
      "Эпоха: 804 Loss: 0.6871372229890607\n",
      "Эпоха: 805 Loss: 0.6869848231208223\n",
      "Эпоха: 806 Loss: 0.6868329712432528\n",
      "Эпоха: 807 Loss: 0.686681665633006\n",
      "Эпоха: 808 Loss: 0.6865309045703789\n",
      "Эпоха: 809 Loss: 0.6863806863393173\n",
      "Эпоха: 810 Loss: 0.6862310092274182\n",
      "Эпоха: 811 Loss: 0.686081871525937\n",
      "Эпоха: 812 Loss: 0.6859332715297889\n",
      "Эпоха: 813 Loss: 0.6857852075375542\n",
      "Эпоха: 814 Loss: 0.6856376778514827\n",
      "Эпоха: 815 Loss: 0.6854906807774964\n",
      "Эпоха: 816 Loss: 0.6853442146251943\n",
      "Эпоха: 817 Loss: 0.685198277707856\n",
      "Эпоха: 818 Loss: 0.6850528683424445\n",
      "Эпоха: 819 Loss: 0.6849079848496106\n",
      "Эпоха: 820 Loss: 0.6847636255536956\n",
      "Эпоха: 821 Loss: 0.6846197887827357\n",
      "Эпоха: 822 Loss: 0.6844764728684637\n",
      "Эпоха: 823 Loss: 0.6843336761463137\n",
      "Эпоха: 824 Loss: 0.6841913969554225\n",
      "Эпоха: 825 Loss: 0.6840496336386345\n",
      "Эпоха: 826 Loss: 0.6839083845425022\n",
      "Эпоха: 827 Loss: 0.6837676480172917\n",
      "Эпоха: 828 Loss: 0.6836274224169832\n",
      "Эпоха: 829 Loss: 0.683487706099274\n",
      "Эпоха: 830 Loss: 0.6833484974255817\n",
      "Эпоха: 831 Loss: 0.6832097947610466\n",
      "Эпоха: 832 Loss: 0.6830715964745332\n",
      "Эпоха: 833 Loss: 0.682933900938633\n",
      "Эпоха: 834 Loss: 0.6827967065296668\n",
      "Эпоха: 835 Loss: 0.6826600116276862\n",
      "Эпоха: 836 Loss: 0.682523814616476\n",
      "Эпоха: 837 Loss: 0.6823881138835561\n",
      "Эпоха: 838 Loss: 0.6822529078201831\n",
      "Эпоха: 839 Loss: 0.682118194821352\n",
      "Эпоха: 840 Loss: 0.6819839732857985\n",
      "Эпоха: 841 Loss: 0.681850241615999\n",
      "Эпоха: 842 Loss: 0.681716998218174\n",
      "Эпоха: 843 Loss: 0.681584241502288\n",
      "Эпоха: 844 Loss: 0.6814519698820518\n",
      "Эпоха: 845 Loss: 0.6813201817749226\n",
      "Эпоха: 846 Loss: 0.6811888756021066\n",
      "Эпоха: 847 Loss: 0.6810580497885588\n",
      "Эпоха: 848 Loss: 0.6809277027629844\n",
      "Эпоха: 849 Loss: 0.6807978329578398\n",
      "Эпоха: 850 Loss: 0.6806684388093337\n",
      "Эпоха: 851 Loss: 0.6805395187574269\n",
      "Эпоха: 852 Loss: 0.6804110712458342\n",
      "Эпоха: 853 Loss: 0.6802830947220239\n",
      "Эпоха: 854 Loss: 0.6801555876372187\n",
      "Эпоха: 855 Loss: 0.6800285484463963\n",
      "Эпоха: 856 Loss: 0.6799019756082896\n",
      "Эпоха: 857 Loss: 0.6797758675853871\n",
      "Эпоха: 858 Loss: 0.6796502228439328\n",
      "Эпоха: 859 Loss: 0.6795250398539265\n",
      "Эпоха: 860 Loss: 0.6794003170891236\n",
      "Эпоха: 861 Loss: 0.6792760530270359\n",
      "Эпоха: 862 Loss: 0.6791522461489305\n",
      "Эпоха: 863 Loss: 0.6790288949398299\n",
      "Эпоха: 864 Loss: 0.6789059978885122\n",
      "Эпоха: 865 Loss: 0.6787835534875103\n",
      "Эпоха: 866 Loss: 0.6786615602331114\n",
      "Эпоха: 867 Loss: 0.6785400166253576\n",
      "Эпоха: 868 Loss: 0.6784189211680431\n",
      "Эпоха: 869 Loss: 0.6782982723687168\n",
      "Эпоха: 870 Loss: 0.6781780687386783\n",
      "Эпоха: 871 Loss: 0.6780583087929795\n",
      "Эпоха: 872 Loss: 0.6779389910504228\n",
      "Эпоха: 873 Loss: 0.6778201140335605\n",
      "Эпоха: 874 Loss: 0.6777016762686935\n",
      "Эпоха: 875 Loss: 0.677583676285871\n",
      "Эпоха: 876 Loss: 0.677466112618888\n",
      "Эпоха: 877 Loss: 0.6773489838052861\n",
      "Эпоха: 878 Loss: 0.6772322883863503\n",
      "Эпоха: 879 Loss: 0.6771160249071095\n",
      "Эпоха: 880 Loss: 0.6770001919163338\n",
      "Эпоха: 881 Loss: 0.6768847879665332\n",
      "Эпоха: 882 Loss: 0.676769811613957\n",
      "Эпоха: 883 Loss: 0.6766552614185919\n",
      "Эпоха: 884 Loss: 0.6765411359441593\n",
      "Эпоха: 885 Loss: 0.6764274337581155\n",
      "Эпоха: 886 Loss: 0.6763141534316485\n",
      "Эпоха: 887 Loss: 0.6762012935396763\n",
      "Эпоха: 888 Loss: 0.676088852660846\n",
      "Эпоха: 889 Loss: 0.6759768293775311\n",
      "Эпоха: 890 Loss: 0.6758652222758295\n",
      "Эпоха: 891 Loss: 0.6757540299455616\n",
      "Эпоха: 892 Loss: 0.6756432509802685\n",
      "Эпоха: 893 Loss: 0.6755328839772091\n",
      "Эпоха: 894 Loss: 0.675422927537359\n",
      "Эпоха: 895 Loss: 0.6753133802654067\n",
      "Эпоха: 896 Loss: 0.6752042407697523\n",
      "Эпоха: 897 Loss: 0.6750955076625053\n",
      "Эпоха: 898 Loss: 0.6749871795594812\n",
      "Эпоха: 899 Loss: 0.6748792550801996\n",
      "Эпоха: 900 Loss: 0.6747717328478816\n",
      "Эпоха: 901 Loss: 0.674664611489447\n",
      "Эпоха: 902 Loss: 0.6745578896355117\n",
      "Эпоха: 903 Loss: 0.6744515659203847\n",
      "Эпоха: 904 Loss: 0.6743456389820658\n",
      "Эпоха: 905 Loss: 0.6742401074622426\n",
      "Эпоха: 906 Loss: 0.6741349700062867\n",
      "Эпоха: 907 Loss: 0.6740302252632527\n",
      "Эпоха: 908 Loss: 0.6739258718858728\n",
      "Эпоха: 909 Loss: 0.6738219085305559\n",
      "Эпоха: 910 Loss: 0.6737183338573826\n",
      "Эпоха: 911 Loss: 0.6736151465301033\n",
      "Эпоха: 912 Loss: 0.6735123452161351\n",
      "Эпоха: 913 Loss: 0.6734099285865575\n",
      "Эпоха: 914 Loss: 0.6733078953161094\n",
      "Эпоха: 915 Loss: 0.6732062440831864\n",
      "Эпоха: 916 Loss: 0.6731049735698368\n",
      "Эпоха: 917 Loss: 0.6730040824617582\n",
      "Эпоха: 918 Loss: 0.6729035694482938\n",
      "Эпоха: 919 Loss: 0.6728034332224293\n",
      "Эпоха: 920 Loss: 0.6727036724807888\n",
      "Эпоха: 921 Loss: 0.6726042859236315\n",
      "Эпоха: 922 Loss: 0.672505272254848\n",
      "Эпоха: 923 Loss: 0.6724066301819562\n",
      "Эпоха: 924 Loss: 0.6723083584160975\n",
      "Эпоха: 925 Loss: 0.6722104556720333\n",
      "Эпоха: 926 Loss: 0.6721129206681411\n",
      "Эпоха: 927 Loss: 0.6720157521264101\n",
      "Эпоха: 928 Loss: 0.6719189487724377\n",
      "Эпоха: 929 Loss: 0.6718225093354249\n",
      "Эпоха: 930 Loss: 0.6717264325481731\n",
      "Эпоха: 931 Loss: 0.6716307171470792\n",
      "Эпоха: 932 Loss: 0.6715353618721319\n",
      "Эпоха: 933 Loss: 0.6714403654669069\n",
      "Эпоха: 934 Loss: 0.6713457266785634\n",
      "Эпоха: 935 Loss: 0.6712514442578392\n",
      "Эпоха: 936 Loss: 0.6711575169590471\n",
      "Эпоха: 937 Loss: 0.6710639435400699\n",
      "Эпоха: 938 Loss: 0.6709707227623557\n",
      "Эпоха: 939 Loss: 0.6708778533909144\n",
      "Эпоха: 940 Loss: 0.6707853341943125\n",
      "Эпоха: 941 Loss: 0.6706931639446693\n",
      "Эпоха: 942 Loss: 0.6706013414176512\n",
      "Эпоха: 943 Loss: 0.6705098653924676\n",
      "Эпоха: 944 Loss: 0.6704187346518671\n",
      "Эпоха: 945 Loss: 0.6703279479821315\n",
      "Эпоха: 946 Loss: 0.6702375041730722\n",
      "Эпоха: 947 Loss: 0.6701474020180239\n",
      "Эпоха: 948 Loss: 0.6700576403138422\n",
      "Эпоха: 949 Loss: 0.6699682178608962\n",
      "Эпоха: 950 Loss: 0.6698791334630654\n",
      "Эпоха: 951 Loss: 0.6697903859277341\n",
      "Эпоха: 952 Loss: 0.6697019740657867\n",
      "Эпоха: 953 Loss: 0.6696138966916022\n",
      "Эпоха: 954 Loss: 0.6695261526230502\n",
      "Эпоха: 955 Loss: 0.6694387406814847\n",
      "Эпоха: 956 Loss: 0.66935165969174\n",
      "Эпоха: 957 Loss: 0.669264908482125\n",
      "Эпоха: 958 Loss: 0.6691784858844181\n",
      "Эпоха: 959 Loss: 0.6690923907338625\n",
      "Эпоха: 960 Loss: 0.6690066218691604\n",
      "Эпоха: 961 Loss: 0.6689211781324682\n",
      "Эпоха: 962 Loss: 0.6688360583693906\n",
      "Эпоха: 963 Loss: 0.6687512614289766\n",
      "Эпоха: 964 Loss: 0.6686667861637127\n",
      "Эпоха: 965 Loss: 0.6685826314295181\n",
      "Эпоха: 966 Loss: 0.6684987960857397\n",
      "Эпоха: 967 Loss: 0.6684152789951465\n",
      "Эпоха: 968 Loss: 0.6683320790239236\n",
      "Эпоха: 969 Loss: 0.6682491950416675\n",
      "Эпоха: 970 Loss: 0.6681666259213795\n",
      "Эпоха: 971 Loss: 0.6680843705394621\n",
      "Эпоха: 972 Loss: 0.6680024277757111\n",
      "Эпоха: 973 Loss: 0.6679207965133118\n",
      "Эпоха: 974 Loss: 0.6678394756388327\n",
      "Эпоха: 975 Loss: 0.6677584640422192\n",
      "Эпоха: 976 Loss: 0.6676777606167896\n",
      "Эпоха: 977 Loss: 0.6675973642592277\n",
      "Эпоха: 978 Loss: 0.667517273869578\n",
      "Эпоха: 979 Loss: 0.6674374883512398\n",
      "Эпоха: 980 Loss: 0.6673580066109613\n",
      "Эпоха: 981 Loss: 0.6672788275588339\n",
      "Эпоха: 982 Loss: 0.6671999501082866\n",
      "Эпоха: 983 Loss: 0.667121373176079\n",
      "Эпоха: 984 Loss: 0.6670430956822975\n",
      "Эпоха: 985 Loss: 0.6669651165503476\n",
      "Эпоха: 986 Loss: 0.6668874347069487\n",
      "Эпоха: 987 Loss: 0.6668100490821277\n",
      "Эпоха: 988 Loss: 0.6667329586092144\n",
      "Эпоха: 989 Loss: 0.6666561622248336\n",
      "Эпоха: 990 Loss: 0.6665796588689004\n",
      "Эпоха: 991 Loss: 0.6665034474846137\n",
      "Эпоха: 992 Loss: 0.6664275270184502\n",
      "Эпоха: 993 Loss: 0.6663518964201585\n",
      "Эпоха: 994 Loss: 0.6662765546427529\n",
      "Эпоха: 995 Loss: 0.6662015006425072\n",
      "Эпоха: 996 Loss: 0.6661267333789483\n",
      "Эпоха: 997 Loss: 0.666052251814851\n",
      "Эпоха: 998 Loss: 0.6659780549162309\n",
      "Эпоха: 999 Loss: 0.665904141652338\n"
     ]
    }
   ],
   "source": [
    "model = Hand_made_Logistic_reg()\n",
    "model.fit(X_cl_train_scaled, y_cl_train)\n",
    "y_pred = model.predict(X_cl_test_scaled)"
   ]
  },
  {
   "cell_type": "code",
   "execution_count": 25,
   "metadata": {
    "id": "Iq2cS4WhawzP"
   },
   "outputs": [
    {
     "name": "stdout",
     "output_type": "stream",
     "text": [
      "              precision    recall  f1-score   support\n",
      "\n",
      "           0       0.82      0.96      0.88      1607\n",
      "           1       0.42      0.12      0.19       393\n",
      "\n",
      "    accuracy                           0.80      2000\n",
      "   macro avg       0.62      0.54      0.54      2000\n",
      "weighted avg       0.74      0.80      0.75      2000\n",
      "\n"
     ]
    }
   ],
   "source": [
    "print(classification_report(y_cl_test, y_pred))"
   ]
  },
  {
   "cell_type": "markdown",
   "metadata": {
    "id": "LYvwNAqXxwl8"
   },
   "source": [
    "#### 4. Создайте стэк из 3-х моделей, одна из которых должна быть на оcнове бустинга деревьев, другая использоваться в комплексе с жадным подбором гиперпараметров, третья любая. Также как и выше, предскажите поле \"Exited\". Выведите classification_report "
   ]
  },
  {
   "cell_type": "code",
   "execution_count": 26,
   "metadata": {
    "id": "MbkDnp4G6Kzf"
   },
   "outputs": [
    {
     "name": "stdout",
     "output_type": "stream",
     "text": [
      "              precision    recall  f1-score   support\n",
      "\n",
      "           0       0.88      0.96      0.92      1607\n",
      "           1       0.74      0.48      0.58       393\n",
      "\n",
      "    accuracy                           0.86      2000\n",
      "   macro avg       0.81      0.72      0.75      2000\n",
      "weighted avg       0.86      0.86      0.85      2000\n",
      "\n"
     ]
    }
   ],
   "source": [
    "param_grid = {\n",
    "    'n_estimators': [50, 100, 150],\n",
    "    'learning_rate': [0.05, 0.1, 0.2],\n",
    "    'max_depth': [3, 5, 7]\n",
    "}\n",
    "xgb = XGBClassifier(random_state=42)\n",
    "grid_search = GridSearchCV(xgb, param_grid, cv=3)\n",
    "\n",
    "estimators = [\n",
    "    ('rf', RandomForestClassifier(n_estimators=10, random_state=42)),\n",
    "    ('svr', LinearSVC(dual=\"auto\", random_state=42)),\n",
    "    ('xgb', grid_search)\n",
    "]\n",
    "stacking_clf = StackingClassifier(\n",
    "    estimators=estimators, final_estimator=LogisticRegression()\n",
    ")\n",
    "\n",
    "stacking_clf.fit(X_cl_train_scaled, y_cl_train)\n",
    "y_pred = stacking_clf.predict(X_cl_test_scaled)\n",
    "\n",
    "print(classification_report(y_cl_test, y_pred))"
   ]
  }
 ],
 "metadata": {
  "colab": {
   "collapsed_sections": [
    "k02Go1EICMMf",
    "F7SPcKDYCny2",
    "Nn8qwo6VLxqH",
    "yG8vLh18QEyK",
    "APQys213y84B",
    "3LVrUJ1OAru8"
   ],
   "name": "oait_task_for_candidate_classicml_questions.ipynb",
   "provenance": []
  },
  "kernelspec": {
   "display_name": "Python 3 (ipykernel)",
   "language": "python",
   "name": "python3"
  },
  "language_info": {
   "codemirror_mode": {
    "name": "ipython",
    "version": 3
   },
   "file_extension": ".py",
   "mimetype": "text/x-python",
   "name": "python",
   "nbconvert_exporter": "python",
   "pygments_lexer": "ipython3",
   "version": "3.10.9"
  }
 },
 "nbformat": 4,
 "nbformat_minor": 4
}
