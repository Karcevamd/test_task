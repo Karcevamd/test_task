{
 "cells": [
  {
   "cell_type": "code",
   "execution_count": null,
   "metadata": {
    "id": "xw3Yf-rFV9rY"
   },
   "outputs": [],
   "source": []
  },
  {
   "cell_type": "markdown",
   "metadata": {
    "id": "DIi-7FBVCCmZ"
   },
   "source": [
    "# Классичесское машинное обучение"
   ]
  },
  {
   "cell_type": "markdown",
   "metadata": {
    "id": "k02Go1EICMMf"
   },
   "source": [
    "## Место для импорта библиотек"
   ]
  },
  {
   "cell_type": "code",
   "execution_count": 49,
   "metadata": {
    "id": "WxHe3BbICLJV"
   },
   "outputs": [],
   "source": []
  },
  {
   "cell_type": "code",
   "execution_count": 1,
   "metadata": {
    "id": "V88rpoRICnG6"
   },
   "outputs": [],
   "source": []
  },
  {
   "cell_type": "markdown",
   "metadata": {
    "id": "F7SPcKDYCny2"
   },
   "source": [
    "## Загрузка и предобработка данных\n",
    "\n",
    "Общая информация: \n",
    "\n",
    "Вам дана таблица bank_clients_data.csv содержащая данные о клиентах банка.<br>Необходимо решить задачу классификации, покинул клиент банк или нет. <br>\n",
    "Поля таблицы:\n",
    "\n",
    "* RowNumber — соответствует номеру записи (строки)\n",
    "* СustomerId — id клиента;\n",
    "* Surname — фамилия клиента;\n",
    "* CreditScore — крдитный рейтиинг клиента, полученный в результате каких-то расчетов внутри банка;\n",
    "* Geography — местоположение клиента;\n",
    "* Gender — пол;\n",
    "* Age — возраст;\n",
    "* Tenure — количество лет, в течение которых человек является клиентом банка;\n",
    "* Balance — остаток на счете;\n",
    "* NumOfProducts — количество продуктов, которые клиент приобрел через банк;\n",
    "* HasCrCard — есть ли у клиента кредитная карта. 1-да, 0-нет;\n",
    "* IsActiveMember — активный-1 или нет-2 клиент;\n",
    "* EstimatedSalary — заработная плата;\n",
    "* Exited — перестал ли клиент пользоваться услугами банка и в принципе быть его лкиентом. Целевая переменная. Характеризует отток.\n"
   ]
  },
  {
   "cell_type": "code",
   "execution_count": 1,
   "metadata": {
    "id": "EORDthnOLXA0"
   },
   "outputs": [],
   "source": []
  },
  {
   "cell_type": "markdown",
   "metadata": {
    "id": "Nn8qwo6VLxqH"
   },
   "source": [
    "## 1. EDA. Составьте Общее представление о данных"
   ]
  },
  {
   "cell_type": "markdown",
   "metadata": {
    "id": "CXfyK0uxzjt_"
   },
   "source": [
    "#### 1. Прочитайте таблицу и выведите информацию о каждом столбце (среднее значение, среднее отклонение, основные процентили итп)"
   ]
  },
  {
   "cell_type": "code",
   "execution_count": null,
   "metadata": {
    "id": "lxLlE4_u73n9"
   },
   "outputs": [],
   "source": []
  },
  {
   "cell_type": "markdown",
   "metadata": {
    "id": "7KyGVbfPz4l7"
   },
   "source": [
    "#### 2. Чему равен 80% процентиль по полю зарплаты, результат округлите до 1 знака после запятой, о чём говорит данное значение?"
   ]
  },
  {
   "cell_type": "code",
   "execution_count": 166,
   "metadata": {
    "id": "LZDzSZ9KMHu1"
   },
   "outputs": [],
   "source": [
    "\n",
    "#Говорит о том, что "
   ]
  },
  {
   "cell_type": "markdown",
   "metadata": {
    "id": "RX_vYh5J0CE2"
   },
   "source": [
    "#### 3. Есть ли в данных пропущенные значения?"
   ]
  },
  {
   "cell_type": "code",
   "execution_count": null,
   "metadata": {
    "id": "OWXxjg5N7-rO"
   },
   "outputs": [],
   "source": []
  },
  {
   "cell_type": "markdown",
   "metadata": {
    "id": "hiqrRVOLNTJ9"
   },
   "source": [
    "#### 4. Проверьте сбалансированность классов и сделайте вывод \n"
   ]
  },
  {
   "cell_type": "code",
   "execution_count": null,
   "metadata": {
    "id": "BrEOnItv7_5q"
   },
   "outputs": [],
   "source": []
  },
  {
   "cell_type": "markdown",
   "metadata": {
    "id": "yG8vLh18QEyK"
   },
   "source": [
    "## 2. Построение графиков "
   ]
  },
  {
   "cell_type": "markdown",
   "metadata": {
    "id": "TFzVXh5jrb3-"
   },
   "source": [
    "#### 1. Постройте гистограмму распределения возраста клиентов, сделайте ее зеленого цвета, не забудьте про наименования осей и самого графика"
   ]
  },
  {
   "cell_type": "code",
   "execution_count": null,
   "metadata": {
    "id": "Xq3dnHNk8CYS"
   },
   "outputs": [],
   "source": []
  },
  {
   "cell_type": "markdown",
   "metadata": {
    "id": "ZDPyjGmBrNUr"
   },
   "source": [
    "#### 2. Постройте график распределения количества ушедших клиентов исходя из их пола. Наверху каждого столбца отобразите количественный показатель. Какой можно сделать вывод?"
   ]
  },
  {
   "cell_type": "code",
   "execution_count": null,
   "metadata": {
    "id": "CtFDF_3g8GU0"
   },
   "outputs": [],
   "source": []
  },
  {
   "cell_type": "code",
   "execution_count": 167,
   "metadata": {
    "id": "21WNWknVifUX"
   },
   "outputs": [],
   "source": [
    "#Вывод: "
   ]
  },
  {
   "cell_type": "markdown",
   "metadata": {
    "id": "d6Q1P_jQtRKf"
   },
   "source": [
    "#### 3. Возьмите данные о географии клиентов и их доходах. Постройте круговую диаграмму, отображающую картину среднего заработка по странам (должны быть видны страны и конкретные числовые значения)"
   ]
  },
  {
   "cell_type": "code",
   "execution_count": null,
   "metadata": {
    "id": "5xT1NspF8Ibw"
   },
   "outputs": [],
   "source": []
  },
  {
   "cell_type": "markdown",
   "metadata": {
    "id": "Xg5dhOpixXw-"
   },
   "source": [
    "#### 4. Постройте тепловую карту корреляции всех признаков из таблицы. Согласно полученной карте, какие признаки показывают наибольшую взаимосвязь? "
   ]
  },
  {
   "cell_type": "code",
   "execution_count": 13,
   "metadata": {
    "id": "68g3UbXr0HUJ"
   },
   "outputs": [],
   "source": []
  },
  {
   "cell_type": "markdown",
   "metadata": {
    "id": "APQys213y84B"
   },
   "source": [
    "## 3. Подготовка данных к использованию в алгоритмах ml"
   ]
  },
  {
   "cell_type": "markdown",
   "metadata": {
    "id": "NOzpxZo40ZTG"
   },
   "source": [
    "####  1. Избавьтесь от полей, которые по вашему мнению являются неинформативными, поясните выбор"
   ]
  },
  {
   "cell_type": "code",
   "execution_count": 14,
   "metadata": {
    "id": "epAO62ci1JMr"
   },
   "outputs": [],
   "source": []
  },
  {
   "cell_type": "markdown",
   "metadata": {
    "id": "CTziexqH15Sa"
   },
   "source": [
    "#### 2. Переведите категориальные данные в числовые. "
   ]
  },
  {
   "cell_type": "code",
   "execution_count": 16,
   "metadata": {
    "id": "9nTskERjAF5M"
   },
   "outputs": [],
   "source": []
  },
  {
   "cell_type": "code",
   "execution_count": null,
   "metadata": {
    "id": "yYWPhkux8TfE"
   },
   "outputs": [],
   "source": []
  },
  {
   "cell_type": "markdown",
   "metadata": {
    "id": "Q5iO08h1EqSO"
   },
   "source": [
    "#### 3. Разделите данные на train (80%) и test (20%) любым способом\n",
    "\n",
    "1. Для задачи линейной регрессии, целевой признак Age<br> Получите датасеты:\n",
    "X_reg_train, X_reg_test, y_reg_train, y_reg_test\n",
    "\n",
    "2. Для задачи логистической регрессии. Целевой признак Exited<br> Получите датасеты:\n",
    "X_cl_train, X_cl_test, y_cl_train, y_cl_test"
   ]
  },
  {
   "cell_type": "code",
   "execution_count": 17,
   "metadata": {
    "id": "CrWaReJpzBYI"
   },
   "outputs": [],
   "source": []
  },
  {
   "cell_type": "markdown",
   "metadata": {
    "id": "11YzOHcpEVJ3"
   },
   "source": [
    "#### 4. Стандартизируйте данные для классификации или регресии, если это необходимо."
   ]
  },
  {
   "cell_type": "code",
   "execution_count": null,
   "metadata": {
    "id": "eRI7-Ryx8X0H"
   },
   "outputs": [],
   "source": []
  },
  {
   "cell_type": "code",
   "execution_count": null,
   "metadata": {
    "id": "lURnwiJE8XT1"
   },
   "outputs": [],
   "source": []
  },
  {
   "cell_type": "markdown",
   "metadata": {
    "id": "3LVrUJ1OAru8"
   },
   "source": [
    "## 4. Работа с ml моделями"
   ]
  },
  {
   "cell_type": "markdown",
   "metadata": {
    "id": "i1Rmx35DzUUq"
   },
   "source": [
    "#### 1. Реализуйте модель линейной регрессии для поля 'Age' аналитическим способом, используя формулу весов, полученную от минимизации ошибок по методу наименьших квадратов. \n",
    "\n",
    "$ w = (X^TX)^{-1}X^TY $"
   ]
  },
  {
   "cell_type": "code",
   "execution_count": 24,
   "metadata": {
    "id": "i9TiXoLa0hAD"
   },
   "outputs": [],
   "source": [
    "# Создайте функцию, которая принимает значения выборок, полученных выше (X_reg_train, X_reg_test, y_reg_train, y_reg_test) и \n",
    "# выдаёт среднюю абсолютную ошибку и корень из среднеквадратичной ошибки по тестовой выборке\n",
    "\n",
    "# def lin_reg_1 (X_tr, y_tr, X_te, y_te):\n",
    "#     return mae, mse\n"
   ]
  },
  {
   "cell_type": "code",
   "execution_count": null,
   "metadata": {
    "id": "gjtWcAOW8hQx"
   },
   "outputs": [],
   "source": []
  },
  {
   "cell_type": "markdown",
   "metadata": {
    "id": "YtSFPQHX5W5L"
   },
   "source": [
    "#### 2. Реализуйте модель линейной регрессии при помощи любого готового пакета, сравните полученное mae из двух моделей, из этого решения и полученного выше. Сделайте выводы."
   ]
  },
  {
   "cell_type": "code",
   "execution_count": null,
   "metadata": {
    "id": "raoRsCTL8iyG"
   },
   "outputs": [],
   "source": []
  },
  {
   "cell_type": "code",
   "execution_count": null,
   "metadata": {
    "id": "N265_f1AIez7"
   },
   "outputs": [],
   "source": []
  },
  {
   "cell_type": "markdown",
   "metadata": {
    "id": "TMJYDGH05sk1"
   },
   "source": [
    "#### 3. Реализуйте модель логистической регрессии для поля 'Exited'"
   ]
  },
  {
   "cell_type": "markdown",
   "metadata": {
    "id": "9sGcwyhzIuoi"
   },
   "source": [
    "1. Напишите функцию активации, которую в дальнейшем будете использовать. <br>\n",
    "$y_{pred}(y') = \\frac{1}{1 + e^{-\\langle y' \\rangle}}\n",
    "$"
   ]
  },
  {
   "cell_type": "code",
   "execution_count": 55,
   "metadata": {
    "id": "1q2lDuBGMAl3"
   },
   "outputs": [],
   "source": [
    "# def sigmoid(z):\n",
    "#     return ..."
   ]
  },
  {
   "cell_type": "markdown",
   "metadata": {
    "id": "aMUjmLYOmmux"
   },
   "source": [
    "2. Напишите функцию кроссэнтропии, проверьте работает ли она, функция не должна ничего возвращать, дальше понадобится только тело функции <br>\n",
    "$L(w) = -y\\, log\\,y_{pred} - (1-y)\\,log\\,(1-y_{pred})$"
   ]
  },
  {
   "cell_type": "code",
   "execution_count": null,
   "metadata": {
    "id": "C7CgVcmxj4ay"
   },
   "outputs": [],
   "source": []
  },
  {
   "cell_type": "markdown",
   "metadata": {
    "id": "uXYcFR_N0u50"
   },
   "source": [
    "3. Дополните архитектуру логистической регрессии. Обучите и предскажите результаты по тестовой выборки раннее полученнх данных для классификации. (X_cl_train, X_cl_test, y_cl_train, y_cl_test). <br>\n",
    "Выведите classification_report из пакета sklearn. Получите weighted avg >= 0.68 по каждой метрике из отчёта"
   ]
  },
  {
   "cell_type": "code",
   "execution_count": null,
   "metadata": {
    "id": "7_HgKAOC8yRS"
   },
   "outputs": [],
   "source": []
  },
  {
   "cell_type": "code",
   "execution_count": 164,
   "metadata": {
    "id": "sNU2Uz0cawvi"
   },
   "outputs": [],
   "source": [
    "class Hand_made_Logistic_reg:\n",
    "    \n",
    "    #Здесь ваша функция сигмоиды \n",
    "    def sigmoid(self, h):\n",
    "        return ...\n",
    "\n",
    "\n",
    "    def loss_function(self, X, y, weights): \n",
    "        # если смотреть на функцию потерь, то y_pred в ней это:\n",
    "        y_hat = np.dot(X, weights)\n",
    "\n",
    "        #здесь описывается функция потерь - кросс энтропия \n",
    "        # вставьте своё созданное выше выражение в скобки\n",
    "        return sum(    '''тело функции потерь определенной выше'''      )  /len(X) #((не забудьте self рядом с функциями, которые определены внутри класса))\n",
    "\n",
    "    \n",
    "    def fit(self, X, y, epochs= , lr= ):      \n",
    "        loss = []\n",
    "\n",
    "        weights = np.random.rand(X.shape[1])\n",
    "        N = X.shape[0] #кол-во cтрочек в датасете \n",
    "                 \n",
    "        for epoch in range(epochs):        \n",
    "            # Градиентный спуск:\n",
    "            y_hat = self.sigmoid(np.dot(X, weights))\n",
    "\n",
    "            #Здесь функция обновления весов \n",
    "            #Запишите функцию обновления весов на каждом шаге, здесь пригодится lr и N\n",
    "            weights -= \n",
    "\n",
    "            #Запись ошибок в список\n",
    "\n",
    "        \n",
    "            #Отображение ошибок по эпохам во время обучения\n",
    "            print('Эпоха:', epoch, 'Loss:', loss[-1])\n",
    "        self.weights = weights\n",
    "        self.loss = loss\n",
    "     \n",
    "    \n",
    "    def predict(self, X):        \n",
    "        # скалярное умножение весов и новых значений х\n",
    "        y_hat = \n",
    "        # возвращение списка значений, которые выше определенного уровня вероятности\n",
    "        return ..."
   ]
  },
  {
   "cell_type": "code",
   "execution_count": 168,
   "metadata": {
    "id": "Iq2cS4WhawzP"
   },
   "outputs": [],
   "source": [
    "# Сlassification_report. Получите weighted avg >= 0.68 каждой метрике из отчёта\n"
   ]
  },
  {
   "cell_type": "code",
   "execution_count": null,
   "metadata": {
    "id": "4f182YPv33Jy"
   },
   "outputs": [],
   "source": []
  },
  {
   "cell_type": "markdown",
   "metadata": {
    "id": "LYvwNAqXxwl8"
   },
   "source": [
    "#### 4. Создайте стэк из 3-х моделей, одна из которых должна быть на оcнове бустинга деревьев, другая использоваться в комплексе с жадным подбором гиперпараметров, третья любая. Также как и выше, предскажите поле \"Exited\". Выведите classification_report "
   ]
  },
  {
   "cell_type": "code",
   "execution_count": null,
   "metadata": {
    "id": "MbkDnp4G6Kzf"
   },
   "outputs": [],
   "source": []
  },
  {
   "cell_type": "code",
   "execution_count": null,
   "metadata": {
    "id": "JXa9Dbbv-rpy"
   },
   "outputs": [],
   "source": []
  }
 ],
 "metadata": {
  "colab": {
   "collapsed_sections": [
    "k02Go1EICMMf",
    "F7SPcKDYCny2",
    "Nn8qwo6VLxqH",
    "yG8vLh18QEyK",
    "APQys213y84B",
    "3LVrUJ1OAru8"
   ],
   "name": "oait_task_for_candidate_classicml_questions.ipynb",
   "provenance": []
  },
  "kernelspec": {
   "display_name": "Python 3",
   "language": "python",
   "name": "python3"
  },
  "language_info": {
   "codemirror_mode": {
    "name": "ipython",
    "version": 3
   },
   "file_extension": ".py",
   "mimetype": "text/x-python",
   "name": "python",
   "nbconvert_exporter": "python",
   "pygments_lexer": "ipython3",
   "version": "3.8.3"
  }
 },
 "nbformat": 4,
 "nbformat_minor": 1
}
